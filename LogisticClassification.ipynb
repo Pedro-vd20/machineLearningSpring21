{
 "cells": [
  {
   "cell_type": "code",
   "execution_count": 1,
   "id": "stylish-player",
   "metadata": {},
   "outputs": [
    {
     "data": {
      "image/png": "[encoded data removed]",
      "text/plain": [
       "<Figure size 432x288 with 1 Axes>"
      ]
     },
     "metadata": {
      "needs_background": "light"
     },
     "output_type": "display_data"
    }
   ],
   "source": [
    "import numpy as np\n",
    "import matplotlib.pyplot as plt\n",
    "from sklearn.datasets import make_blobs\n",
    "\n",
    "x, y = make_blobs(n_samples=20, centers=2, n_features=2, random_state=42)\n",
    "\n",
    "plt.scatter(x[:, 0], x[:, 1], c=y)\n",
    "plt.show()"
   ]
  },
  {
   "cell_type": "code",
   "execution_count": 2,
   "id": "lined-consumption",
   "metadata": {},
   "outputs": [
    {
     "data": {
      "image/png": "[encoded data removed]",
      "text/plain": [
       "<Figure size 432x288 with 1 Axes>"
      ]
     },
     "metadata": {
      "needs_background": "light"
     },
     "output_type": "display_data"
    }
   ],
   "source": [
    "outlier = np.array([-1000, 100])\n",
    "outlier_y = 0\n",
    "\n",
    "x2 = np.vstack((outlier, x))\n",
    "y2 = np.append(outlier_y, y)\n",
    "plt.scatter(x2[:, 0], x2[:, 1], c=y2)\n",
    "plt.show()"
   ]
  },
  {
   "cell_type": "markdown",
   "id": "working-burning",
   "metadata": {},
   "source": [
    "<h3>Effect of an outlier</h3>"
   ]
  },
  {
   "cell_type": "code",
   "execution_count": 4,
   "id": "arctic-chosen",
   "metadata": {},
   "outputs": [
    {
     "data": {
      "image/png": "[encoded data removed]",
      "text/plain": [
       "<Figure size 432x288 with 1 Axes>"
      ]
     },
     "metadata": {
      "needs_background": "light"
     },
     "output_type": "display_data"
    }
   ],
   "source": [
    "from sklearn.linear_model import LinearRegression\n",
    "\n",
    "linearModel = LinearRegression()\n",
    "linearModel.fit(x2, y2)\n",
    "\n",
    "x1_min = np.min(x2[:, 0])\n",
    "x2_min = np.min(x2[:, 1])\n",
    "x1_max = np.max(x2[:, 0])\n",
    "x2_max = np.max(x2[:, 1])\n",
    "\n",
    "xx1, xx2 = np.meshgrid(np.linspace(x1_min, x1_max, 100), np.linspace(x2_min, x2_max, 100))\n",
    "xPredict = np.vstack((xx1.flatten(), xx2.flatten()))\n",
    "\n",
    "targets = linearModel.predict(xPredict.T)\n",
    "\n",
    "plt.contourf(xx1, xx2, np.reshape(targets>.5, np.shape(xx1)), levels=1, alpha=0.3)\n",
    "plt.scatter(x2[:, 0], x2[:, 1], c=y2)\n",
    "plt.show()"
   ]
  },
  {
   "cell_type": "markdown",
   "id": "several-necklace",
   "metadata": {},
   "source": [
    "<h3>Effect of not having the outlier</h1>"
   ]
  },
  {
   "cell_type": "code",
   "execution_count": 5,
   "id": "tender-flexibility",
   "metadata": {},
   "outputs": [
    {
     "data": {
      "image/png": "[encoded data removed]",
      "text/plain": [
       "<Figure size 432x288 with 1 Axes>"
      ]
     },
     "metadata": {
      "needs_background": "light"
     },
     "output_type": "display_data"
    }
   ],
   "source": [
    "from sklearn.linear_model import LinearRegression\n",
    "\n",
    "linearModel = LinearRegression()\n",
    "linearModel.fit(x, y)\n",
    "\n",
    "x1_min = np.min(x[:, 0])\n",
    "x2_min = np.min(x[:, 1])\n",
    "x1_max = np.max(x[:, 0])\n",
    "x2_max = np.max(x[:, 1])\n",
    "\n",
    "xx1, xx2 = np.meshgrid(np.linspace(x1_min, x1_max, 100), np.linspace(x2_min, x2_max, 100))\n",
    "xPredict = np.vstack((xx1.flatten(), xx2.flatten()))\n",
    "\n",
    "targets = linearModel.predict(xPredict.T)\n",
    "\n",
    "plt.contourf(xx1, xx2, np.reshape(targets>.5, np.shape(xx1)), levels=1, alpha=0.3)\n",
    "plt.scatter(x[:, 0], x[:, 1], c=y)\n",
    "plt.show()"
   ]
  },
  {
   "cell_type": "markdown",
   "id": "eight-scoop",
   "metadata": {},
   "source": [
    "<p>Basically, the model is extremely sensitive to an outlier</p>"
   ]
  },
  {
   "cell_type": "markdown",
   "id": "further-amount",
   "metadata": {},
   "source": [
    "<h3>Logistic regression without an outlier</h3>"
   ]
  },
  {
   "cell_type": "code",
   "execution_count": null,
   "id": "standard-director",
   "metadata": {},
   "outputs": [],
   "source": [
    "from sklearn.linear_model import LogisticRegression\n",
    "\n",
    "logisticModel = LogisticRegression()\n",
    "logisticModel.fit(x, y)\n",
    "\n",
    "x1_min_0 = np.min(x[:, 0])\n",
    "x2_min_0 = np.min(x[:, 1])\n",
    "x1_max_0 = np.max(x[:, 0])\n",
    "x2_max_0 = np.max(x[:, 1])\n",
    "\n",
    "xx1, xx2 = np.meshgrid(np.linspace(x1_min_0, x1_max_0, 100), np.linspace(x2_min_0, x2_max_0, 100))\n",
    "xPredict = np.vstack((xx1.flatten(), xx2.flatten()))\n",
    "\n",
    "targets = logisticModel.predict(xPredict.T)\n",
    "\n",
    "plt.contourf(xx1, xx2, np.reshape(targets>.5, np.shape(xx1)), levels=1, alpha=0.3)\n",
    "plt.scatter(x[:, 0], x[:, 1], c=y)\n",
    "plt.show()"
   ]
  },
  {
   "cell_type": "markdown",
   "id": "accredited-lebanon",
   "metadata": {},
   "source": [
    "<h3>Logistic regression with an outlier</h3>"
   ]
  },
  {
   "cell_type": "code",
   "execution_count": null,
   "id": "weird-hello",
   "metadata": {},
   "outputs": [],
   "source": [
    "from sklearn.linear_model import LogisticRegression\n",
    "\n",
    "logisticModel = LogisticRegression()\n",
    "logisticModel.fit(x2, y2)\n",
    "\n",
    "x1_min = np.min(x2[:, 0])\n",
    "x2_min = np.min(x2[:, 1])\n",
    "x1_max = np.max(x2[:, 0])\n",
    "x2_max = np.max(x2[:, 1])\n",
    "\n",
    "xx1, xx2 = np.meshgrid(np.linspace(x1_min, x1_max, 100), np.linspace(x2_min, x2_max, 100))\n",
    "xPredict = np.vstack((xx1.flatten(), xx2.flatten()))\n",
    "\n",
    "targets = logisticModel.predict(xPredict.T)\n",
    "\n",
    "plt.contourf(xx1, xx2, np.reshape(targets>.5, np.shape(xx1)), levels=1, alpha=0.3)\n",
    "plt.scatter(x2[1:, 0], x2[1:, 1], c=y2[1:])\n",
    "axes = plt.gca()\n",
    "axes.set_xlim([x1_min_0, x1_max_0])\n",
    "axes.set_ylim([x2_min_0, x2_max_0])\n",
    "plt.show()"
   ]
  },
  {
   "cell_type": "code",
   "execution_count": null,
   "id": "medical-evolution",
   "metadata": {},
   "outputs": [],
   "source": []
  }
 ],
 "metadata": {
  "kernelspec": {
   "display_name": "Python 3",
   "language": "python",
   "name": "python3"
  },
  "language_info": {
   "codemirror_mode": {
    "name": "ipython",
    "version": 3
   },
   "file_extension": ".py",
   "mimetype": "text/x-python",
   "name": "python",
   "nbconvert_exporter": "python",
   "pygments_lexer": "ipython3",
   "version": "3.8.5"
  }
 },
 "nbformat": 4,
 "nbformat_minor": 5
}
