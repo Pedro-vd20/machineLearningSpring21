{
 "cells": [
  {
   "cell_type": "code",
   "execution_count": 1,
   "metadata": {
    "colab": {
     "base_uri": "https://localhost:8080/",
     "height": 165
    },
    "id": "Uv6hp8gT1IAS",
    "outputId": "c09f5304-113f-4389-c8e4-00bc60cc7856"
   },
   "outputs": [
    {
     "data": {
      "image/png": "[encoded data removed]",
      "text/plain": [
       "<Figure size 432x288 with 1 Axes>"
      ]
     },
     "metadata": {
      "needs_background": "light"
     },
     "output_type": "display_data"
    }
   ],
   "source": [
    "import numpy as np\n",
    "import matplotlib.pyplot as plt\n",
    "from __future__ import division\n",
    "\n",
    "mean = [0, 0]\n",
    "cov = [[10, 0.2], [0.2, 1]]  \n",
    "\n",
    "x, y = np.random.multivariate_normal(mean, cov, 200).T\n",
    "\n",
    "\n",
    "xmin = np.min(x)\n",
    "xmax = np.max(x)\n",
    "ymin = np.min(y)\n",
    "ymax = np.max(y)\n",
    "\n",
    "xx, yy = np.meshgrid(np.linspace(xmin, xmax, 100), np.linspace(ymin, ymax, 100))\n",
    "\n",
    "coordinate = np.vstack((xx.flatten(), yy.flatten())).T\n",
    "\n",
    "det_cov = np.sqrt(np.linalg.det(cov)) \n",
    "\n",
    "density = np.zeros((np.shape(coordinate)[0],1))\n",
    "\n",
    "for i in range(0,np.shape(coordinate)[0]):\n",
    "    \n",
    "    density[i] = (1/2/np.pi/det_cov)*np.exp((-1/2)*np.matmul(np.matmul((coordinate[i,:] - mean),np.linalg.inv(cov)),\n",
    "              (coordinate[i,:] - mean).T))  \n",
    "    \n",
    "plt.scatter(x, y)\n",
    "plt.contourf(xx, yy, np.reshape(density, np.shape(xx)), alpha=0.2)\n",
    "plt.gca().set_aspect('equal', adjustable='box')\n",
    "plt.show()\n",
    "\n"
   ]
  },
  {
   "cell_type": "code",
   "execution_count": 2,
   "metadata": {
    "colab": {
     "background_save": true
    },
    "id": "qOtEHt-BhO1T"
   },
   "outputs": [],
   "source": [
    "import numpy as np\n",
    "import matplotlib.pyplot as plt\n",
    "from __future__ import division\n",
    "\n",
    "mean1 = [-1, -1]\n",
    "mean2 = [1, 1]\n",
    "\n",
    "cov1 = [[.1, 0.01], [0.01, .1]]  \n",
    "cov2 = [[.1, 0.01], [0.01, .1]]  \n",
    "\n",
    "\n",
    "x1, y1 = np.random.multivariate_normal(mean1, cov1, 40).T\n",
    "x2, y2 = np.random.multivariate_normal(mean2, cov2, 40).T\n",
    "\n",
    "x = np.hstack((x1, x2)).T\n",
    "y = np.hstack((y1, y2)).T\n",
    "\n",
    "xmin = np.min(x)\n",
    "xmax = np.max(x)\n",
    "ymin = np.min(y)\n",
    "ymax = np.max(y)\n",
    "\n",
    "xx, yy = np.meshgrid(np.linspace(xmin, xmax, 100), np.linspace(ymin, ymax, 100))\n",
    "\n",
    "coordinate = np.vstack((xx.flatten(), yy.flatten())).T\n",
    "\n",
    "det_cov = np.sqrt(np.linalg.det(cov)) \n",
    "\n",
    "density = np.zeros((np.shape(coordinate)[0],1))\n",
    "\n",
    "for i in range(0,np.shape(coordinate)[0]):\n",
    "    \n",
    "    density[i] = (1/2)*(1/2/np.pi/det_cov)*np.exp((-1/2)*np.matmul(np.matmul((coordinate[i,:] - mean1),np.linalg.inv(cov1)),\n",
    "              (coordinate[i,:] - mean1).T))+\\\n",
    "    (1/2)*(1/2/np.pi/det_cov)*np.exp((-1/2)*np.matmul(np.matmul((coordinate[i,:] - mean2),np.linalg.inv(cov2)),\n",
    "              (coordinate[i,:] - mean2).T))\n",
    "    "
   ]
  },
  {
   "cell_type": "code",
   "execution_count": 3,
   "metadata": {
    "colab": {
     "base_uri": "https://localhost:8080/",
     "height": 265
    },
    "id": "Z56eyO5ThaZz",
    "outputId": "fa75ccfd-55fd-48e9-c7b5-2568bb5ef1bd"
   },
   "outputs": [
    {
     "data": {
      "image/png": "[encoded data removed]",
      "text/plain": [
       "<Figure size 432x288 with 1 Axes>"
      ]
     },
     "metadata": {
      "needs_background": "light"
     },
     "output_type": "display_data"
    }
   ],
   "source": [
    "\n",
    "plt.scatter(x, y)\n",
    "plt.contourf(xx, yy, np.reshape(density, np.shape(xx)), alpha=0.2)\n",
    "plt.gca().set_aspect('equal', adjustable='box')\n",
    "plt.show()"
   ]
  },
  {
   "cell_type": "code",
   "execution_count": 4,
   "metadata": {
    "id": "6JInha2nhgu1"
   },
   "outputs": [],
   "source": [
    "maxIteration =100\n",
    "num_clusters = 2 # \n",
    "num_dimensions = 2\n",
    "\n",
    "coordinates = np.hstack((x.reshape(-1,1), y.reshape(-1,1)))\n",
    "\n",
    "\n",
    "# Initializing the parameters of the mixture\n",
    "# delineate my space (find the limits)\n",
    "xmin = np.min(x)\n",
    "xmax = np.max(x)\n",
    "ymin = np.min(y)\n",
    "ymax = np.max(y)\n",
    "\n",
    "# create a pool of possible positions \n",
    "xcoord = np.linspace(xmin, xmax, num_clusters*10)\n",
    "ycoord = np.linspace(ymin, ymax, num_clusters*10)\n",
    "\n",
    "# sample the coordinates of the initial mean estimates from the pool\n",
    "xinit = np.random.choice(xcoord, num_clusters)\n",
    "yinit = np.random.choice(ycoord, num_clusters)\n",
    "\n",
    "guess_mean = np.hstack((xinit.reshape(-1,1), yinit.reshape(-1,1)))\n",
    "\n",
    "# initialize my prior probabilities (of each clusters) to 1/num_clusters\n",
    "phi = np.squeeze((1/num_clusters)*np.ones((num_clusters, 1)))\n",
    "\n",
    "# initialize covariance to identity\n",
    "guess_covariances = np.zeros((num_dimensions**2,num_clusters))\n",
    "\n",
    "for j in range(num_clusters):\n",
    "    \n",
    "    guess_cov = np.eye(num_dimensions,num_dimensions)\n",
    "    guess_covariances[:,j] = guess_cov.flatten()\n",
    "\n",
    "# EM algorithm\n",
    "\n",
    "gamma = np.zeros((np.shape(x)[0],num_clusters))\n"
   ]
  },
  {
   "cell_type": "code",
   "execution_count": 5,
   "metadata": {
    "id": "oILUcjfiisSh"
   },
   "outputs": [],
   "source": [
    "# displaying the original configuration\n",
    "\n",
    "density = np.zeros((np.shape(xx.flatten())[0],1))\n",
    "\n",
    "coordinates_grid = np.vstack((xx.flatten(), yy.flatten())).T\n",
    "\n",
    "for i in range(0,np.shape(coordinates_grid)[0]):\n",
    "    \n",
    "    for j in range(num_clusters):\n",
    "\n",
    "        cov_j = np.reshape(guess_covariances[:,j],[num_dimensions, num_dimensions])\n",
    "        det_covj = np.sqrt(np.linalg.det(cov_j)) \n",
    "    \n",
    "        density[i] += phi[j]*(1/2/np.pi/det_covj)*np.exp((-1/2)*np.matmul(np.matmul((coordinates_grid[i,:] - guess_mean[j,:]),np.linalg.inv(cov_j)),\n",
    "                      (coordinates_grid[i,:] - guess_mean[j,:]).T))\n"
   ]
  },
  {
   "cell_type": "code",
   "execution_count": 6,
   "metadata": {
    "colab": {
     "base_uri": "https://localhost:8080/",
     "height": 265
    },
    "id": "IET4IKI_wfq8",
    "outputId": "74779bdd-dd2d-4c19-8f26-425f2370c742"
   },
   "outputs": [
    {
     "data": {
      "image/png": "[encoded data removed]",
      "text/plain": [
       "<Figure size 432x288 with 1 Axes>"
      ]
     },
     "metadata": {
      "needs_background": "light"
     },
     "output_type": "display_data"
    }
   ],
   "source": [
    "        \n",
    "plt.scatter(x, y)\n",
    "plt.scatter(guess_mean[:,0], guess_mean[:,1], color='green', marker = 'x', linewidths=3, s=100)\n",
    "plt.contourf(xx, yy, np.reshape(density, np.shape(xx)), alpha=0.2)\n",
    "plt.gca().set_aspect('equal', adjustable='box')\n",
    "plt.show()"
   ]
  },
  {
   "cell_type": "code",
   "execution_count": 7,
   "metadata": {
    "id": "nsnsH9Xnw7K9"
   },
   "outputs": [
    {
     "ename": "SyntaxError",
     "evalue": "invalid syntax (<ipython-input-7-f5f307192023>, line 6)",
     "output_type": "error",
     "traceback": [
      "\u001b[0;36m  File \u001b[0;32m\"<ipython-input-7-f5f307192023>\"\u001b[0;36m, line \u001b[0;32m6\u001b[0m\n\u001b[0;31m    for numIter < maxIter:\u001b[0m\n\u001b[0m                ^\u001b[0m\n\u001b[0;31mSyntaxError\u001b[0m\u001b[0;31m:\u001b[0m invalid syntax\n"
     ]
    }
   ],
   "source": [
    "coordinates= np.vstack((x, y)).T\n",
    "\n",
    "from numpy import linalg as LA\n",
    "\n",
    "\n",
    "for numIter < maxIter:\n",
    "    \n",
    "\n",
    "    \n",
    "    # (1) E step  (=assignment step in K means)\n",
    "    for i in range(np.shape(x)[0]):\n",
    "        \n",
    "        \n",
    "        denom_gamma = np.zeros((len(x),1))\n",
    "        gamma = np.zeros((len(x),num_clusters))\n",
    "        \n",
    "        for j in range(num_cluster):\n",
    "            \n",
    "            cov_j = np.reshape(guess_covariances[:,j],[num_dimensions, num_dimensions])\n",
    "            \n",
    "            det_covj = np.sqrt(np.linalg.det(cov_j)) \n",
    "\n",
    "            \n",
    "            denom_gamma[i] += phi[j]*(1/2/np.pi/det_covj)*np.exp((-1/2)*np.matmul(np.matmul((coordinate_point[i,:] - guess_mean[j,:]),np.linalg.inv(cov_j)),\n",
    "                      (coordinate_point[i,:] - guess_mean[j,:]).T))\n",
    "            \n",
    "    \n",
    "        for j in range(num_clusters):\n",
    "                \n",
    "            cov_j = np.reshape(guess_covariances[:,j],[num_dimensions, num_dimensions])\n",
    "            \n",
    "            det_covj = np.sqrt(np.linalg.det(cov_j)) \n",
    "            \n",
    "            coordinate_point = np.array([x[i], y[i]])\n",
    "            # gaussi\n",
    "            gamma_ij = (1/2/np.pi/det_covj)*np.exp((-1/2)*np.matmul(np.matmul((coordinate_point[i,:] - guess_mean[j, :]),np.linalg.inv(cov_j)),\n",
    "                      (coordinate_point[i,:] - guess_mean[j,:]).T))*phi[j]\n",
    "\n",
    "            gamma[i,j] = gamma_ij/denom_gamma[i]\n",
    "    \n",
    "    \n",
    "    # M Step \n",
    "    \n",
    "    guess_mean = np.zeros((num_clusters, num_dimensions))\n",
    "    ones_tmp = np.ones((np.shape(x)[0], 1))\n",
    "    \n",
    "    guess_covariances = np.zeros((num_dimensions**2, num_clusters))\n",
    "    \n",
    "    phi = np.zeros((num_clusters, 1))\n",
    "    \n",
    "    for j in range(num_clusters):\n",
    "        \n",
    "        guess_mean[j,:] = np.matmul(coordinates.T, gamma[:,j])/np.matmul(ones_tmp, gamma[:,j])\n",
    "        \n",
    "        \n",
    "        tmp2 = np.matmul(gamma[:,j], np.ones((1, 2)))\n",
    "        tmp_cov = np.multiply((coordinates - guess_mean[j,:]).T,tmp2.T) \n",
    "        \n",
    "        covariance_num = np.matmul(tmp_cov,(coordinates - guess_mean[j,:])) \n",
    "        covariance_tmp = covariance_num/np.matmul(ones_tmp, gamma[:,j])\n",
    "    \n",
    "        guess_covariances[:,j] = covariance_tmp.flatten()\n",
    "    \n",
    "        phi[j] = np.matmul(ones_tmp, gamma[:,j])/len(x)\n",
    "        \n",
    "        \n",
    "\n"
   ]
  },
  {
   "cell_type": "code",
   "execution_count": null,
   "metadata": {},
   "outputs": [],
   "source": []
  }
 ],
 "metadata": {
  "colab": {
   "collapsed_sections": [],
   "name": "Clustering and PCA.ipynb",
   "provenance": []
  },
  "kernelspec": {
   "display_name": "Python 3",
   "language": "python",
   "name": "python3"
  },
  "language_info": {
   "codemirror_mode": {
    "name": "ipython",
    "version": 3
   },
   "file_extension": ".py",
   "mimetype": "text/x-python",
   "name": "python",
   "nbconvert_exporter": "python",
   "pygments_lexer": "ipython3",
   "version": "3.8.5"
  }
 },
 "nbformat": 4,
 "nbformat_minor": 1
}
