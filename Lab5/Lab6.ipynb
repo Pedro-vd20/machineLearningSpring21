{
 "cells": [
  {
   "cell_type": "markdown",
   "id": "positive-layer",
   "metadata": {},
   "source": [
    "## Week 6. Neural Nets and backpropagation"
   ]
  },
  {
   "cell_type": "markdown",
   "id": "latest-environment",
   "metadata": {},
   "source": [
    "In this session we will continue the work we started on neural networks. In particular, in this exercise, you will get to code a neural network from scratch and will be asked to understand and code backpropagation to train the network "
   ]
  },
  {
   "cell_type": "markdown",
   "id": "handy-weapon",
   "metadata": {},
   "source": [
    "<img src=\"NNbrainIMage.png\" alt=\"Drawing\" style=\"width: 400px;\"/>\n",
    "\n",
    "image credit:  [https://appen.com](https://appen.com) "
   ]
  },
  {
   "cell_type": "markdown",
   "id": "defensive-maintenance",
   "metadata": {},
   "source": [
    "__Exercise 1.__ Let us go back briefly to a simple dataset to make sure we understand how things work. As a first exercise, we will code a one hidden layer neural network that outputs a binary 0/1 variable indicating the class of our data. Throughout this exercise, we will use the notation $z^{\\ell+1} = \\sigma(a^{\\ell+1})$ to denote the output of any neuron from the $(\\ell+1)^{th}$ layer and where $a^{\\ell+1} = \\sum_{k} w_{\\ell+1,k} z_k$ is the combination from the previous layer that is fed to the neuron.  "
   ]
  },
  {
   "cell_type": "markdown",
   "id": "portable-professional",
   "metadata": {},
   "source": [
    "<img src=\"SingleHiddenLayerNeuralNet.png\" alt=\"Drawing\" style=\"width: 400px;\"/>\n",
    "\n",
    "image credit:  [MaviccPRP@web.studio](https://maviccprp.github.io) "
   ]
  },
  {
   "cell_type": "markdown",
   "id": "distinct-competition",
   "metadata": {},
   "source": [
    "We will use the function ['minimize'](https://docs.scipy.org/doc/scipy/reference/generated/scipy.optimize.minimize.html) from scipy. Check the documentation of that function. We will set the 'jac' parameter of the optimizer to 'True', which implies that the (objective) function that we provide as an input should return both the value of the loss and the value of its gradient. \n",
    "\n",
    "For this first exercise, you are asked to write a function $f(W)$ wich takes as arguments a vector $W$ containing all the parameters of your network (as a first step consider building a network with only a few hidden units, in order to make sure the model is working). As indicated above, the function should return (1) the value of the binary cross entropy for the given set of weights and (2) the value of the gradient derived through Backpropagation (as we set the value of 'jac' to True). \n",
    "\n",
    " We will split the writing of your function into several steps. Once you have coded each step, you should gather them together in a single $fun(W)$ body that you will then pass as input to the minimize function. \n",
    "\n",
    "__Exercise 1.a.__ Start Load the data using the lines below and plot it using scatter( )"
   ]
  },
  {
   "cell_type": "code",
   "execution_count": 5,
   "id": "geographic-norwegian",
   "metadata": {},
   "outputs": [],
   "source": [
    "# lab 6\n",
    "from scipy.optimize import minimize\n",
    "import scipy.io as sio\n",
    "import numpy as np\n",
    "\n",
    "data1 = sio.loadmat(\"pointsClass1Week6.mat\")\n",
    "data2 = sio.loadmat(\"pointsClass2Week6.mat\")\n",
    "\n",
    "from numpy import linalg as LA\n",
    "\n",
    "data1 = data1[\"pointsClass1Week6\"]\n",
    "data2 = data2[\"pointsClass2Week6\"]"
   ]
  },
  {
   "cell_type": "markdown",
   "id": "regulated-frank",
   "metadata": {},
   "source": [
    "__Exercise 1.b__ As indicated above, we want to apply the network to the simple binary dataset that you loaded above. We want to build an architecture similar to the one shown above, except that, since we only consider a 2D dataset, we only need 2 inputs. we want our activation function to be all sigmoid. Start by defining the function sigmoid and the gradient of this function. Once you are done, check your derivative. Also make sure you can compute the entrywise sigmoid on any numpy array if the input to your function is a numpy array. "
   ]
  },
  {
   "cell_type": "code",
   "execution_count": 6,
   "id": "finished-teens",
   "metadata": {},
   "outputs": [
    {
     "data": {
      "image/png": "[encoded data removed]",
      "text/plain": [
       "<Figure size 432x288 with 1 Axes>"
      ]
     },
     "metadata": {
      "needs_background": "light"
     },
     "output_type": "display_data"
    }
   ],
   "source": [
    "import matplotlib.pyplot as plt\n",
    "\n",
    "def sigmoid(x):\n",
    "    # takes input vector and returns the vector (sigma(x1), sigma(x2), ..., sigma(xn))\n",
    "    # also returns derivative of sigmoid (sigma * (1 - sigma))\n",
    "    \n",
    "    sigmoid = np.divide(1, 1 + np.exp(-x))\n",
    "    return sigmoid, np.multiply(sigmoid, (1 - sigmoid))\n",
    "\n",
    "\n",
    "x = np.linspace(-10, 10, 100)\n",
    "\n",
    "\n",
    "plt.plot(x, sigmoid(x)[0])\n",
    "plt.show()"
   ]
  },
  {
   "cell_type": "markdown",
   "id": "amateur-commissioner",
   "metadata": {},
   "source": [
    "__Exercise 1.c__ Now that we have the sigmoid and its gradient, we will code the loss. As you might remember from previous labs, the MLPClassifier from scikit-learn optimizes the 'log-loss function' (a.k.a Binary cross entropy) which reads for a set of $N$ prototypes $x_i$ with binary $0/1$ targets, \n",
    "\n",
    "$$−\\frac{1}{N}\\sum_{i=1}^N (y_i \\log(p_{W}(x_i))+(1−y_i)\\log(1−p_{W}(x_i))) $$\n",
    "\n",
    "Here the probability $p_{W}(x_i)$ is the output of your network. Instead of minimizing this function directly, we will consider its $\\ell_2$ regularized version\n",
    "\n",
    "$$−\\frac{1}{N}\\sum_{i=1}^N (y_i \\log(p_{W}(x_i))+(1−y_i)\\log(1−p_{W}(x_i)))  + \\lambda \\sum_{j\\in\\text{weights}\\setminus \\text{bias}} W^2_j$$\n",
    "\n",
    "Where the $W_j$ encode the weights. Code that function for a given labeled dataset $X,t$ such as given above, a set of weights stored in the vector $W$ (you can use a list or a dictionnary if you want but ultimately, you will need to store them in a numpy vector for use with the optimization routine).  Note that one typically does not regularize the bias terms. "
   ]
  },
  {
   "cell_type": "code",
   "execution_count": null,
   "id": "completed-railway",
   "metadata": {},
   "outputs": [],
   "source": [
    "\n",
    "# returns loss value and gradient\n",
    "# inputs: training point x and targets t\n",
    "#         initial weight vector\n",
    "#         alpha is the regularization parameter\n",
    "#         network_size, network_size(k) = num neurons in layer k\n",
    "#\n",
    "# return: value of binary cross entropy loss\n",
    "#         value of gradient\n",
    "\n",
    "def binaryCrossEntropy(x, t, W, alpha, networkSize):\n",
    "    # step 1: forward propagation\n",
    "    NUM_LAYERS = len(networkSize)\n",
    "    \n",
    "    inputsPreviousLayer = len(x)\n",
    "    currentNumNuerons = networkSize[0]\n",
    "    W0 = W[0:currentNumNeurons * (inputsPreviousLayer + 1)] # + 1 for the intercepts\n",
    "    \n",
    "    xTilde = np.vstack((1, x.reshape(-1, 1)))\n",
    "    W0Matrix = np.reshape(W0, (currentNumNeurons, inputsPreviousLayer + 1))\n",
    "    \n",
    "    # preactivation\n",
    "    a = np.matmul(xTilde, W0Matrix)\n",
    "    # postactivation\n",
    "    z = sigmoid(a)[0]\n",
    "    \n",
    "    counter = currentNumNeurons * (inputsPreviousLayer + 1)\n",
    "    \n",
    "    aTotal = np.zeros((np.sum(networkSize), 1))\n",
    "    zTotal = np.zeros((np.sum(networkSize[1 :])sum(networkSize), 1))\n",
    "    \n",
    "    aTotal[0:networkSize[0]] = a\n",
    "    zTotal[0:networkSize[0]] = z\n",
    "    \n",
    "    counter2 = networkSize[0]\n",
    "    \n",
    "    for nn in range(1, NUM_LAYERS):\n",
    "    \n",
    "        inputsPreviousLayer = len(z)\n",
    "        currentNumNuerons = networkSize[nn]\n",
    "        WL = W[counter:counter + currentNumNeurons * (inputsPreviousLayer + 1)] # + 1 for the intercepts\n",
    "        counter += currentNumNeurons * (inputsPreviousLayer + 1)\n",
    "        \n",
    "        zTilde = np.vstack((1, z.reshape(-1, 1)))\n",
    "        WLMatrix = np.reshape(WL, (currentNumNeurons, inputsPreviousLayer + 1))\n",
    "\n",
    "        # preactivation\n",
    "        a = np.matmul(zTilde, WLMatrix)\n",
    "        # postactivation\n",
    "        z = sigmoid(a)[0]\n",
    "        \n",
    "        aTotal[counter2: counter2 + networkSize[nn]] = a\n",
    "        zTotal[counter2: counter2 + networkSize[nn]] = z\n",
    "        \n",
    "        counter2 += networkSize[nn]\n",
    "    \n",
    "    binaryCrossEntropy = -(t * np.log(z) + (1 - t) * np.log(1 - z))\n",
    "    \n",
    "    zOut = z\n",
    "    \n",
    "    # step 2: backward propagation\n",
    "    deltaOut = zOut - target\n",
    "    \n",
    "    numNueronsL = networSize[-1]\n",
    "    numNueronsLMinus1 = networSize[-2]\n",
    "    WeightLastLayer = W[-(numNeuronsL * (numNeuronsLMinus1 + 1)):]\n",
    "    np.reshape(WeightLastLayer, (numberNeuronsLMinus1, numNueronsL))\n",
    "    \n",
    "    # backdrop delta\n",
    "    \n",
    "    tmp = np.matmul(WightLastLayer.T, deltaOut)\n",
    "    \n",
    "    current_ai = aTotal[-networkSize[-1] - networkSize[-2] : -networkSize[-1]]\n",
    "    current_zi = zTotal[-networkSize[-1] - networkSize[-2] : -networkSize[-1]]\n",
    "    \n",
    "    sigmaPrime_ai = sigmoid(a)[1]\n",
    "    \n",
    "    deltaL = np.multiply(tmp, sigmoid(a)[1])\n",
    "    \n",
    "    counter4 = -(numNeuronsL * (numNeuronsLMinus1 + 1))\n",
    "    counter5 = networkSize[-1]-networkSize[-2]\n",
    "    \n",
    "    dL_dwout = np.matmul(deltaL.reshape(-1, 1), current_zi.reshape(-1, 1).T)\n",
    "    \n",
    "    for nn in range(1, NUM_LAYERS):\n",
    "        numNueronsL = networSize[-nn-1]\n",
    "        numNueronsLMinus1 = networSize[-nn-2]\n",
    "        WeightLastLayer = W[-(numNeuronsL * (numNeuronsLMinus1 + 1)) + counter4 : counter4]\n",
    "        np.reshape(WeightLastLayer, (numberNeuronsLMinus1, numNueronsL))\n",
    "\n",
    "        # backdrop delta\n",
    "\n",
    "        tmp = np.matmul(WightLastLayer.T, deltaOut)\n",
    "\n",
    "        current_ai = aTotal[-counter5 - networkSize[-nn-2] : -counter5]\n",
    "        current_zi = zTotal[-counter5 - networkSize[-nn-2] : -counter5]\n",
    "\n",
    "        sigmaPrime_ai = sigmoid(a)[1]\n",
    "\n",
    "        deltaL = np.multiply(tmp, sigmoid(a)[1])\n",
    "        \n",
    "        counter4 += -(numNeuronsL * (numNeuronsLMinus1 + 1))\n",
    "        counter5 += network_size[-nn-2]\n",
    "        \n",
    "    \n",
    "    # return binaryCrossEntropy, gradient\n",
    "    \n",
    "    "
   ]
  },
  {
   "cell_type": "markdown",
   "id": "ceramic-palestine",
   "metadata": {},
   "source": [
    "__Exercise 1.d. Towards Backpropagation.__ The example above is relatively simple so that backpropagation is not really needed. Compute the gradient of the Binary cross entropy loss with respect to the weights.  "
   ]
  },
  {
   "cell_type": "code",
   "execution_count": null,
   "id": "fatty-recipient",
   "metadata": {},
   "outputs": [],
   "source": []
  }
 ],
 "metadata": {
  "kernelspec": {
   "display_name": "Python 3",
   "language": "python",
   "name": "python3"
  },
  "language_info": {
   "codemirror_mode": {
    "name": "ipython",
    "version": 3
   },
   "file_extension": ".py",
   "mimetype": "text/x-python",
   "name": "python",
   "nbconvert_exporter": "python",
   "pygments_lexer": "ipython3",
   "version": "3.8.5"
  }
 },
 "nbformat": 4,
 "nbformat_minor": 5
}
