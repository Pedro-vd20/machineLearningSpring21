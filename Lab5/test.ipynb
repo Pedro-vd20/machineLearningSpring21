{
 "cells": [
  {
   "cell_type": "markdown",
   "metadata": {},
   "source": [
    "## Week 5: Introduction to neural Networks"
   ]
  },
  {
   "cell_type": "markdown",
   "metadata": {},
   "source": [
    "### Perceptron learning rule"
   ]
  },
  {
   "cell_type": "markdown",
   "metadata": {},
   "source": [
    "This week, we will start working with neural networks. For each of the exercises below you can use the method of your choice but you should display the final boundary of your classifier."
   ]
  },
  {
   "cell_type": "markdown",
   "metadata": {},
   "source": [
    "#### Exercise 1. \n",
    "As a first exercise, load the binary dataset below and code a few steps of the perceptron learning rule. "
   ]
  },
  {
   "cell_type": "code",
   "execution_count": 1,
   "metadata": {},
   "outputs": [
    {
     "data": {
      "image/png": "[encoded data removed]",
      "text/plain": [
       "<Figure size 432x288 with 1 Axes>"
      ]
     },
     "metadata": {
      "needs_background": "light"
     },
     "output_type": "display_data"
    },
    {
     "data": {
      "image/png": "[encoded data removed]",
      "text/plain": [
       "<Figure size 432x288 with 1 Axes>"
      ]
     },
     "metadata": {
      "needs_background": "light"
     },
     "output_type": "display_data"
    }
   ],
   "source": [
    "import scipy.io as sio\n",
    "\n",
    "from matplotlib.colors import ListedColormap\n",
    "cm_bright = ListedColormap(['#0000FF', '#FF0000'])\n",
    "\n",
    "data1 = sio.loadmat('perceptron_data_class1.mat')\n",
    "data2 = sio.loadmat('perceptron_data_class2.mat')\n",
    "\n",
    "data1 = data1['perceptron_data_class1']\n",
    "data2 = data2['perceptron_data_class2']\n",
    "\n",
    "# put your code here\n",
    "\n",
    "import matplotlib.pyplot as plt\n",
    "import numpy as np\n",
    "\n",
    "plt.scatter(data1[:,0], data1[:,1], c='r')\n",
    "plt.scatter(data2[:,0], data2[:,1], c='b')\n",
    "plt.show()\n",
    "\n",
    "\n",
    "# -sum_{misclassified points} t^(i) (beta_0+ beta_1x_1^i + beta_2x_2^i)\n",
    "\n",
    "# loop over the misclassified samples beta^{k+1} <-- beta^k + eta*...\n",
    "\n",
    "\n",
    "target1 = np.ones((np.shape(data1)[0], 1))\n",
    "target2 = -np.ones((np.shape(data2)[0],1))\n",
    "\n",
    "target = np.vstack((target1, target2))\n",
    "\n",
    "data = np.vstack((data1, data2))\n",
    "\n",
    "center_of_mass = np.mean(data, axis=0)\n",
    "\n",
    "center_of_mass = np.expand_dims(center_of_mass,1)\n",
    "\n",
    "centered_data = data - np.matmul(np.ones((np.shape(data)[0],1)), \\\n",
    "                                 center_of_mass.T)\n",
    "\n",
    "\n",
    "\n",
    "Nclass1 = np.shape(data1)[0] \n",
    "Nclass2 = np.shape(data2)[0] \n",
    "\n",
    "centered_data1 = centered_data[:Nclass1,:]\n",
    "centered_data2 = centered_data[Nclass1:,:]\n",
    "\n",
    "# centered_data contains all the centered points (N1+N2)\n",
    "\n",
    "plt.scatter(centered_data[:Nclass1,0], \\\n",
    "            centered_data[:Nclass1,1], c='r')\n",
    "plt.scatter(centered_data[Nclass1:Nclass1+Nclass2-1,0], \\\n",
    "            centered_data[Nclass1:Nclass1+Nclass2-1,1], c='b')\n",
    "plt.show()\n",
    "\n"
   ]
  },
  {
   "cell_type": "code",
   "execution_count": 2,
   "metadata": {},
   "outputs": [
    {
     "name": "stdout",
     "output_type": "stream",
     "text": [
      "[[-0.59563465]\n",
      " [-1.69610263]]\n"
     ]
    },
    {
     "data": {
      "image/png": "[encoded data removed]",
      "text/plain": [
       "<Figure size 432x288 with 1 Axes>"
      ]
     },
     "metadata": {
      "needs_background": "light"
     },
     "output_type": "display_data"
    }
   ],
   "source": [
    "\n",
    "beta = np.random.normal(0, 1, (2,1))\n",
    "print(beta)\n",
    "\n",
    "beta0 = 0\n",
    "\n",
    "beta = np.vstack((beta0,beta))\n",
    "\n",
    "\n",
    "x1min = np.min(centered_data[:,0])\n",
    "x1max = np.max(centered_data[:,0])\n",
    "\n",
    "x2min = np.min(centered_data[:,1])\n",
    "x2max = np.max(centered_data[:,1])\n",
    "\n",
    "xx, yy = np.meshgrid(np.linspace(x1min, x1max, 200), np.linspace(x2min, x2max, 200))\n",
    "\n",
    "\n",
    "\n",
    "Xtilde_tmp = np.hstack((np.expand_dims(xx.flatten(),1), np.expand_dims(yy.flatten(),1)))\n",
    "\n",
    "Xtilde = np.hstack((np.ones((len(xx.flatten()),1)) ,Xtilde_tmp))\n",
    "\n",
    "prediction = np.matmul(Xtilde, beta)\n",
    "\n",
    "# short trick to turn the real prediction into a +1/-1 value\n",
    "# if prediction is >0 then (prediction>0) = 1 ==> 2(prediction>0) -1 = 1\n",
    "# if prediction is <0 then (prediction>0) = 0 ==> 2(prediction>0)-1 = -1\n",
    "\n",
    "final_prediction = (prediction > 0) *2 -1\n",
    "\n",
    "\n",
    "plt.scatter(centered_data[:Nclass1,0], \\\n",
    "            centered_data[:Nclass1,1], c='r')\n",
    "plt.scatter(centered_data[Nclass1:Nclass1+Nclass2-1,0], \\\n",
    "            centered_data[Nclass1:Nclass1+Nclass2-1,1], c='b')\n",
    "plt.contourf(xx, yy, np.reshape(final_prediction, \\\n",
    "                                np.shape(xx)), levels = 2,alpha=0.2, cmap=cm_bright)\n",
    "plt.show()"
   ]
  },
  {
   "cell_type": "code",
   "execution_count": 3,
   "metadata": {},
   "outputs": [],
   "source": [
    "target = np.squeeze(target)\n",
    "beta = np.squeeze(beta)\n",
    "\n",
    "dataTilde = np.hstack((np.ones((np.shape(data)[0],1)), centered_data))\n",
    "\n",
    "predicted_target_trainingData_tmp = np.matmul(dataTilde, beta)\n",
    "\n",
    "\n",
    "predicted_target_trainingData = \\\n",
    "(predicted_target_trainingData_tmp > 0) *2 -1\n"
   ]
  },
  {
   "cell_type": "code",
   "execution_count": 4,
   "metadata": {},
   "outputs": [
    {
     "data": {
      "image/png": "[encoded data removed]",
      "text/plain": [
       "<Figure size 432x288 with 1 Axes>"
      ]
     },
     "metadata": {
      "needs_background": "light"
     },
     "output_type": "display_data"
    }
   ],
   "source": [
    "misclassified_points = \\\n",
    "centered_data[np.squeeze(np.not_equal(target, \\\n",
    "                             predicted_target_trainingData)),:]\n",
    "\n",
    "misclassified_targets = target[np.squeeze(np.not_equal(target, \\\n",
    "                             predicted_target_trainingData))]\n",
    "\n",
    "xi = misclassified_points[0,:]\n",
    "ti = misclassified_targets[0]\n",
    "xitilde = np.hstack((1, xi))\n",
    "\n",
    "lr = 0.1\n",
    "\n",
    "\n",
    "beta = np.add(beta,lr*ti*xitilde)\n",
    "\n",
    "prediction = np.matmul(Xtilde, beta)\n",
    "final_prediction = (prediction > 0) *2 -1\n",
    "plt.scatter(centered_data[:Nclass1,0], \\\n",
    "            centered_data[:Nclass1,1], c='r')\n",
    "plt.scatter(centered_data[Nclass1:Nclass1+Nclass2-1,0], \\\n",
    "            centered_data[Nclass1:Nclass1+Nclass2-1,1], c='b')\n",
    "plt.contourf(xx, yy, np.reshape(final_prediction, \\\n",
    "                                np.shape(xx)), levels = 2,alpha=0.2, cmap=cm_bright)\n",
    "plt.show()\n"
   ]
  },
  {
   "cell_type": "code",
   "execution_count": 5,
   "metadata": {},
   "outputs": [],
   "source": [
    "max_iter = 20\n",
    "\n",
    "predicted_target_trainingData_tmp = np.matmul(dataTilde, beta)\n",
    "\n",
    "predicted_target_trainingData = \\\n",
    "(predicted_target_trainingData_tmp > 0) *2 -1\n",
    "misclassified_points = \\\n",
    "centered_data[np.squeeze(np.not_equal(target, \\\n",
    "                         predicted_target_trainingData)),:]\n",
    "\n",
    "misclassified_targets = target[np.squeeze(np.not_equal(target, \\\n",
    "                         predicted_target_trainingData))]\n",
    "\n",
    "while(len(misclassified_targets)>0):\n",
    "    \n",
    "    xi = misclassified_points[0,:]\n",
    "    ti = misclassified_targets[0]\n",
    "    xitilde = np.hstack((1, xi))\n",
    "\n",
    "    lr = 0.1\n",
    "    beta = np.add(beta,lr*ti*xitilde)\n",
    "    \n",
    "    predicted_target_trainingData_tmp = np.matmul(dataTilde, beta)\n",
    "\n",
    "    predicted_target_trainingData = \\\n",
    "    (predicted_target_trainingData_tmp > 0) *2 -1\n",
    "    misclassified_points = \\\n",
    "    centered_data[np.squeeze(np.not_equal(target, \\\n",
    "                             predicted_target_trainingData)),:]\n",
    "    \n",
    "    misclassified_targets = target[np.squeeze(np.not_equal(target, \\\n",
    "                             predicted_target_trainingData))]\n",
    "    "
   ]
  },
  {
   "cell_type": "code",
   "execution_count": 6,
   "metadata": {},
   "outputs": [
    {
     "name": "stdout",
     "output_type": "stream",
     "text": [
      "[]\n"
     ]
    }
   ],
   "source": [
    "print(misclassified_targets)"
   ]
  },
  {
   "cell_type": "code",
   "execution_count": 7,
   "metadata": {},
   "outputs": [
    {
     "data": {
      "image/png": "[encoded data removed]",
      "text/plain": [
       "<Figure size 432x288 with 1 Axes>"
      ]
     },
     "metadata": {
      "needs_background": "light"
     },
     "output_type": "display_data"
    }
   ],
   "source": [
    "prediction = np.matmul(Xtilde, beta)\n",
    "final_prediction = (prediction > 0) *2 -1\n",
    "plt.scatter(centered_data[:Nclass1,0], \\\n",
    "            centered_data[:Nclass1,1], c='r')\n",
    "plt.scatter(centered_data[Nclass1:Nclass1+Nclass2-1,0], \\\n",
    "            centered_data[Nclass1:Nclass1+Nclass2-1,1], c='b')\n",
    "plt.contourf(xx, yy, np.reshape(final_prediction, \\\n",
    "                                np.shape(xx)), levels = 2,alpha=0.2, cmap=cm_bright)\n",
    "plt.show()"
   ]
  },
  {
   "cell_type": "markdown",
   "metadata": {},
   "source": [
    "#### Exercise 2.\n",
    "\n",
    "__2a.__ Load the data below. Using the neural_network module from scikit-learn and its MLPClassifier model, learn a classifier, for the dataset below using \n",
    "\n",
    "- One hidden layer with a linear activation function and \n",
    "    - One neuron\n",
    "    - Two neurons\n",
    "    \n",
    "    \n",
    "    \n",
    "- One hidden layer with a non linear activation function (take Relu for example or a binary step)\n",
    "    - One neuron\n",
    "    - Two neurons\n",
    "\n",
    "How many neurons, hidden layers do you need to learn the distribution of the data? Do you have an idea why?\n",
    "\n",
    "Try increasing the number of neurons and hidden layers. Then try different values of the learning rate. \n"
   ]
  },
  {
   "cell_type": "code",
   "execution_count": 8,
   "metadata": {},
   "outputs": [
    {
     "data": {
      "image/png": "[encoded data removed]",
      "text/plain": [
       "<Figure size 432x288 with 1 Axes>"
      ]
     },
     "metadata": {
      "needs_background": "light"
     },
     "output_type": "display_data"
    }
   ],
   "source": [
    "import scipy.io as sio\n",
    "data1 = sio.loadmat('neural_net_class1.mat')\n",
    "data2 = sio.loadmat('neural_net_class2.mat')\n",
    "\n",
    "data1 = data1['neural_net_class1']\n",
    "data2 = data2['neural_net_class2']\n",
    "\n",
    "from sklearn.neural_network import MLPClassifier\n",
    "\n",
    "# put your code here\n",
    "\n",
    "\n",
    "plt.scatter(data1[:,0], data1[:,1], c='r')\n",
    "plt.scatter(data2[:,0], data2[:,1], c='b')\n",
    "plt.show()"
   ]
  },
  {
   "cell_type": "code",
   "execution_count": 9,
   "metadata": {},
   "outputs": [
    {
     "name": "stdout",
     "output_type": "stream",
     "text": [
      "(22, 1)\n",
      "(31, 1)\n"
     ]
    }
   ],
   "source": [
    "print(np.shape(target1))\n",
    "print(np.shape(target2))"
   ]
  },
  {
   "cell_type": "code",
   "execution_count": 10,
   "metadata": {},
   "outputs": [
    {
     "name": "stderr",
     "output_type": "stream",
     "text": [
      "/home/pedro/anaconda3/lib/python3.8/site-packages/sklearn/utils/validation.py:72: DataConversionWarning: A column-vector y was passed when a 1d array was expected. Please change the shape of y to (n_samples, ), for example using ravel().\n",
      "  return f(**kwargs)\n"
     ]
    },
    {
     "data": {
      "image/png": "[encoded data removed]",
      "text/plain": [
       "<Figure size 432x288 with 1 Axes>"
      ]
     },
     "metadata": {
      "needs_background": "light"
     },
     "output_type": "display_data"
    }
   ],
   "source": [
    "data = np.vstack((data1, data2))\n",
    "target1 = np.ones((np.shape(data1)[0],1))\n",
    "target2 = np.zeros((np.shape(data2)[0],1))\n",
    "\n",
    "target = np.vstack((target1, target2))\n",
    "\n",
    "\n",
    "\n",
    "from sklearn.neural_network import MLPClassifier\n",
    "from matplotlib.colors import ListedColormap\n",
    "cm_bright = ListedColormap(['#FF0000', '#0000FF'])\n",
    "\n",
    "my_classifier = MLPClassifier(max_iter=1000, \\\n",
    "                              hidden_layer_sizes = (1,), \\\n",
    "                              activation = 'logistic', solver = 'lbfgs')\n",
    "my_classifier.fit(data, target)\n",
    "\n",
    "\n",
    "x1min = np.min(data[:,0])\n",
    "x1max = np.max(data[:,0])\n",
    "x2min = np.min(data[:,1])\n",
    "x2max = np.max(data[:,1])\n",
    "\n",
    "xx, yy = np.meshgrid(np.linspace(x1min,x1max, 100), np.linspace(x2min, x2max, 100))\n",
    "\n",
    "Xprediction = np.vstack((xx.flatten(), yy.flatten()))\n",
    "Xprediction = Xprediction.T\n",
    "predicted_targets = my_classifier.predict(Xprediction)\n",
    "\n",
    "plt.scatter(data1[:,0], data1[:,1], c='r')\n",
    "plt.scatter(data2[:,0], data2[:,1], c='b')\n",
    "plt.contourf(xx, yy, np.reshape(predicted_targets>0.5, np.shape(xx)), levels = 2,alpha=0.2, cmap=cm_bright)\n",
    "plt.show()\n",
    "\n"
   ]
  },
  {
   "cell_type": "code",
   "execution_count": 11,
   "metadata": {},
   "outputs": [
    {
     "name": "stderr",
     "output_type": "stream",
     "text": [
      "/home/pedro/anaconda3/lib/python3.8/site-packages/sklearn/utils/validation.py:72: DataConversionWarning: A column-vector y was passed when a 1d array was expected. Please change the shape of y to (n_samples, ), for example using ravel().\n",
      "  return f(**kwargs)\n"
     ]
    },
    {
     "ename": "AttributeError",
     "evalue": "'str' object has no attribute 'decode'",
     "output_type": "error",
     "traceback": [
      "\u001b[0;31m---------------------------------------------------------------------------\u001b[0m",
      "\u001b[0;31mAttributeError\u001b[0m                            Traceback (most recent call last)",
      "\u001b[0;32m<ipython-input-11-a506f07ded51>\u001b[0m in \u001b[0;36m<module>\u001b[0;34m\u001b[0m\n\u001b[1;32m      6\u001b[0m                               \u001b[0mhidden_layer_sizes\u001b[0m \u001b[0;34m=\u001b[0m \u001b[0;34m(\u001b[0m\u001b[0;36m50\u001b[0m\u001b[0;34m,\u001b[0m\u001b[0;36m50\u001b[0m\u001b[0;34m)\u001b[0m\u001b[0;34m,\u001b[0m\u001b[0;31m \u001b[0m\u001b[0;31m\\\u001b[0m\u001b[0;34m\u001b[0m\u001b[0;34m\u001b[0m\u001b[0m\n\u001b[1;32m      7\u001b[0m                               activation = 'logistic', solver = 'lbfgs', alpha = .1)\n\u001b[0;32m----> 8\u001b[0;31m \u001b[0mmy_classifier\u001b[0m\u001b[0;34m.\u001b[0m\u001b[0mfit\u001b[0m\u001b[0;34m(\u001b[0m\u001b[0mdata\u001b[0m\u001b[0;34m,\u001b[0m \u001b[0mtarget\u001b[0m\u001b[0;34m)\u001b[0m\u001b[0;34m\u001b[0m\u001b[0;34m\u001b[0m\u001b[0m\n\u001b[0m\u001b[1;32m      9\u001b[0m \u001b[0;34m\u001b[0m\u001b[0m\n\u001b[1;32m     10\u001b[0m \u001b[0;34m\u001b[0m\u001b[0m\n",
      "\u001b[0;32m~/anaconda3/lib/python3.8/site-packages/sklearn/neural_network/_multilayer_perceptron.py\u001b[0m in \u001b[0;36mfit\u001b[0;34m(self, X, y)\u001b[0m\n\u001b[1;32m   1025\u001b[0m         \u001b[0mself\u001b[0m \u001b[0;34m:\u001b[0m \u001b[0mreturns\u001b[0m \u001b[0ma\u001b[0m \u001b[0mtrained\u001b[0m \u001b[0mMLP\u001b[0m \u001b[0mmodel\u001b[0m\u001b[0;34m.\u001b[0m\u001b[0;34m\u001b[0m\u001b[0;34m\u001b[0m\u001b[0m\n\u001b[1;32m   1026\u001b[0m         \"\"\"\n\u001b[0;32m-> 1027\u001b[0;31m         return self._fit(X, y, incremental=(self.warm_start and\n\u001b[0m\u001b[1;32m   1028\u001b[0m                                             hasattr(self, \"classes_\")))\n\u001b[1;32m   1029\u001b[0m \u001b[0;34m\u001b[0m\u001b[0m\n",
      "\u001b[0;32m~/anaconda3/lib/python3.8/site-packages/sklearn/neural_network/_multilayer_perceptron.py\u001b[0m in \u001b[0;36m_fit\u001b[0;34m(self, X, y, incremental)\u001b[0m\n\u001b[1;32m    373\u001b[0m         \u001b[0;31m# Run the LBFGS solver\u001b[0m\u001b[0;34m\u001b[0m\u001b[0;34m\u001b[0m\u001b[0;34m\u001b[0m\u001b[0m\n\u001b[1;32m    374\u001b[0m         \u001b[0;32melif\u001b[0m \u001b[0mself\u001b[0m\u001b[0;34m.\u001b[0m\u001b[0msolver\u001b[0m \u001b[0;34m==\u001b[0m \u001b[0;34m'lbfgs'\u001b[0m\u001b[0;34m:\u001b[0m\u001b[0;34m\u001b[0m\u001b[0;34m\u001b[0m\u001b[0m\n\u001b[0;32m--> 375\u001b[0;31m             self._fit_lbfgs(X, y, activations, deltas, coef_grads,\n\u001b[0m\u001b[1;32m    376\u001b[0m                             intercept_grads, layer_units)\n\u001b[1;32m    377\u001b[0m         \u001b[0;32mreturn\u001b[0m \u001b[0mself\u001b[0m\u001b[0;34m\u001b[0m\u001b[0;34m\u001b[0m\u001b[0m\n",
      "\u001b[0;32m~/anaconda3/lib/python3.8/site-packages/sklearn/neural_network/_multilayer_perceptron.py\u001b[0m in \u001b[0;36m_fit_lbfgs\u001b[0;34m(self, X, y, activations, deltas, coef_grads, intercept_grads, layer_units)\u001b[0m\n\u001b[1;32m    469\u001b[0m                 },\n\u001b[1;32m    470\u001b[0m                 args=(X, y, activations, deltas, coef_grads, intercept_grads))\n\u001b[0;32m--> 471\u001b[0;31m         \u001b[0mself\u001b[0m\u001b[0;34m.\u001b[0m\u001b[0mn_iter_\u001b[0m \u001b[0;34m=\u001b[0m \u001b[0m_check_optimize_result\u001b[0m\u001b[0;34m(\u001b[0m\u001b[0;34m\"lbfgs\"\u001b[0m\u001b[0;34m,\u001b[0m \u001b[0mopt_res\u001b[0m\u001b[0;34m,\u001b[0m \u001b[0mself\u001b[0m\u001b[0;34m.\u001b[0m\u001b[0mmax_iter\u001b[0m\u001b[0;34m)\u001b[0m\u001b[0;34m\u001b[0m\u001b[0;34m\u001b[0m\u001b[0m\n\u001b[0m\u001b[1;32m    472\u001b[0m         \u001b[0mself\u001b[0m\u001b[0;34m.\u001b[0m\u001b[0mloss_\u001b[0m \u001b[0;34m=\u001b[0m \u001b[0mopt_res\u001b[0m\u001b[0;34m.\u001b[0m\u001b[0mfun\u001b[0m\u001b[0;34m\u001b[0m\u001b[0;34m\u001b[0m\u001b[0m\n\u001b[1;32m    473\u001b[0m         \u001b[0mself\u001b[0m\u001b[0;34m.\u001b[0m\u001b[0m_unpack\u001b[0m\u001b[0;34m(\u001b[0m\u001b[0mopt_res\u001b[0m\u001b[0;34m.\u001b[0m\u001b[0mx\u001b[0m\u001b[0;34m)\u001b[0m\u001b[0;34m\u001b[0m\u001b[0;34m\u001b[0m\u001b[0m\n",
      "\u001b[0;32m~/anaconda3/lib/python3.8/site-packages/sklearn/utils/optimize.py\u001b[0m in \u001b[0;36m_check_optimize_result\u001b[0;34m(solver, result, max_iter, extra_warning_msg)\u001b[0m\n\u001b[1;32m    241\u001b[0m                 \u001b[0;34m\"    https://scikit-learn.org/stable/modules/\"\u001b[0m\u001b[0;34m\u001b[0m\u001b[0;34m\u001b[0m\u001b[0m\n\u001b[1;32m    242\u001b[0m                 \u001b[0;34m\"preprocessing.html\"\u001b[0m\u001b[0;34m\u001b[0m\u001b[0;34m\u001b[0m\u001b[0m\n\u001b[0;32m--> 243\u001b[0;31m             ).format(solver, result.status, result.message.decode(\"latin1\"))\n\u001b[0m\u001b[1;32m    244\u001b[0m             \u001b[0;32mif\u001b[0m \u001b[0mextra_warning_msg\u001b[0m \u001b[0;32mis\u001b[0m \u001b[0;32mnot\u001b[0m \u001b[0;32mNone\u001b[0m\u001b[0;34m:\u001b[0m\u001b[0;34m\u001b[0m\u001b[0;34m\u001b[0m\u001b[0m\n\u001b[1;32m    245\u001b[0m                 \u001b[0mwarning_msg\u001b[0m \u001b[0;34m+=\u001b[0m \u001b[0;34m\"\\n\"\u001b[0m \u001b[0;34m+\u001b[0m \u001b[0mextra_warning_msg\u001b[0m\u001b[0;34m\u001b[0m\u001b[0;34m\u001b[0m\u001b[0m\n",
      "\u001b[0;31mAttributeError\u001b[0m: 'str' object has no attribute 'decode'"
     ]
    }
   ],
   "source": [
    "from sklearn.neural_network import MLPClassifier\n",
    "from matplotlib.colors import ListedColormap\n",
    "cm_bright = ListedColormap(['#0000FF', '#FF0000'])\n",
    "\n",
    "my_classifier = MLPClassifier(max_iter=2000, \\\n",
    "                              hidden_layer_sizes = (50,50), \\\n",
    "                              activation = 'logistic', solver = 'lbfgs', alpha = .1)\n",
    "my_classifier.fit(data, target)\n",
    "\n",
    "\n",
    "x1min = np.min(data[:,0])\n",
    "x1max = np.max(data[:,0])\n",
    "x2min = np.min(data[:,1])\n",
    "x2max = np.max(data[:,1])\n",
    "\n",
    "xx, yy = np.meshgrid(np.linspace(x1min,x1max, 100), np.linspace(x2min, x2max, 100))\n",
    "\n",
    "Xprediction = np.vstack((xx.flatten(), yy.flatten()))\n",
    "Xprediction = Xprediction.T\n",
    "predicted_targets = my_classifier.predict(Xprediction)\n",
    "\n",
    "plt.scatter(data1[:,0], data1[:,1], c='r')\n",
    "plt.scatter(data2[:,0], data2[:,1], c='b')\n",
    "plt.contourf(xx, yy, np.reshape(predicted_targets>0.5, np.shape(xx)), levels = 2,alpha=0.2, cmap=cm_bright)\n",
    "plt.show()\n"
   ]
  },
  {
   "cell_type": "markdown",
   "metadata": {},
   "source": [
    "__2b.__ Keep the dataset from above. try to change the intialization of the training algorithm. Plot the resulting classifier for a couple of different initializations. What do you see?\n",
    "\n",
    "Do it for a small network first. Then repeat those experiments for larger architectures. I.e. increase the number of neurons and the number of layers. What do you see when you change the initialization?\n"
   ]
  },
  {
   "cell_type": "code",
   "execution_count": null,
   "metadata": {},
   "outputs": [],
   "source": [
    "\n",
    "# put your code here"
   ]
  },
  {
   "cell_type": "markdown",
   "metadata": {},
   "source": [
    "#### Exercise 3. \n",
    "\n",
    "__3a.__Load the data below. Try to build the best neural network you can for this dataset. Split the data between a training and a test set and evaluate the models you built. What is the best validation error you can get?\n"
   ]
  },
  {
   "cell_type": "code",
   "execution_count": null,
   "metadata": {},
   "outputs": [],
   "source": [
    "\n",
    "import scipy.io as sio\n",
    "data1 = sio.loadmat('neural_net_ex2_class1.mat')\n",
    "data2 = sio.loadmat('neural_net_ex2_class2.mat')\n",
    "\n",
    "data1 = data1['neural_net_ex2_class1']\n",
    "data2 = data2['neural_net_ex2_class2']\n",
    "\n",
    "from sklearn.neural_network import MLPClassifier\n",
    "\n",
    "\n",
    "\n",
    "plt.scatter(data1[:,0], data1[:,1], c='r')\n",
    "plt.scatter(data2[:,0], data2[:,1], c='b')\n",
    "plt.show()\n",
    "\n",
    "# put your code here"
   ]
  },
  {
   "cell_type": "code",
   "execution_count": null,
   "metadata": {},
   "outputs": [],
   "source": [
    "data = np.vstack((data1, data2))\n",
    "target1 = np.ones((np.shape(data1)[0],1))\n",
    "target2 = np.zeros((np.shape(data2)[0],1))\n",
    "\n",
    "target = np.vstack((target1, target2))\n",
    "\n",
    "from sklearn.neural_network import MLPClassifier\n",
    "from matplotlib.colors import ListedColormap\n",
    "\n",
    "my_classifier = MLPClassifier(max_iter=40000, \\\n",
    "                              hidden_layer_sizes = (100,100), \\\n",
    "                              activation = 'tanh', solver = 'lbfgs', alpha=0.15)\n",
    "my_classifier.fit(data, target)\n",
    "\n",
    "\n",
    "x1min = np.min(data[:,0])\n",
    "x1max = np.max(data[:,0])\n",
    "x2min = np.min(data[:,1])\n",
    "x2max = np.max(data[:,1])\n",
    "\n",
    "xx, yy = np.meshgrid(np.linspace(x1min,x1max, 100), np.linspace(x2min, x2max, 100))\n",
    "\n",
    "Xprediction = np.vstack((xx.flatten(), yy.flatten()))\n",
    "Xprediction = Xprediction.T\n",
    "predicted_targets = my_classifier.predict(Xprediction)\n",
    "\n",
    "\n"
   ]
  },
  {
   "cell_type": "code",
   "execution_count": null,
   "metadata": {},
   "outputs": [],
   "source": [
    "cm_bright = ListedColormap(['#0000FF', '#FF0000'])\n",
    "\n",
    "plt.scatter(data1[:,0], data1[:,1], c='r')\n",
    "plt.scatter(data2[:,0], data2[:,1], c='b')\n",
    "plt.contourf(xx, yy, np.reshape(predicted_targets>0.5, np.shape(xx)), levels = 2,alpha=0.2, cmap=cm_bright)\n",
    "plt.show()"
   ]
  },
  {
   "cell_type": "markdown",
   "metadata": {},
   "source": [
    "\n",
    "__3b.__ With the same dataset, add additional features to your model, e.g. $\\sin(x), \\sin(y)$ or other monomials. Can you improve your classifier ?"
   ]
  },
  {
   "cell_type": "code",
   "execution_count": null,
   "metadata": {},
   "outputs": [],
   "source": [
    "# put your code here\n",
    "\n",
    "\n"
   ]
  }
 ],
 "metadata": {
  "kernelspec": {
   "display_name": "Python 3",
   "language": "python",
   "name": "python3"
  },
  "language_info": {
   "codemirror_mode": {
    "name": "ipython",
    "version": 3
   },
   "file_extension": ".py",
   "mimetype": "text/x-python",
   "name": "python",
   "nbconvert_exporter": "python",
   "pygments_lexer": "ipython3",
   "version": "3.8.5"
  }
 },
 "nbformat": 4,
 "nbformat_minor": 2
}
