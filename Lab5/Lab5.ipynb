{
 "cells": [
  {
   "cell_type": "markdown",
   "metadata": {},
   "source": [
    "## Week 5: Introduction to neural Networks"
   ]
  },
  {
   "cell_type": "markdown",
   "metadata": {},
   "source": [
    "### Perceptron learning rule"
   ]
  },
  {
   "cell_type": "markdown",
   "metadata": {},
   "source": [
    "This week, we will start working with neural networks. For each of the exercises below you can use the method of your choice but you should display the final boundary of your classifier."
   ]
  },
  {
   "cell_type": "markdown",
   "metadata": {},
   "source": [
    "#### Exercise 1. \n",
    "As a first exercise, load the binary dataset below and code a few steps of the perceptron learning rule. "
   ]
  },
  {
   "cell_type": "code",
   "execution_count": 1,
   "metadata": {},
   "outputs": [
    {
     "data": {
      "image/png": "[encoded data removed]",
      "text/plain": [
       "<Figure size 432x288 with 1 Axes>"
      ]
     },
     "metadata": {
      "needs_background": "light"
     },
     "output_type": "display_data"
    },
    {
     "data": {
      "image/png": "[encoded data removed]",
      "text/plain": [
       "<Figure size 432x288 with 1 Axes>"
      ]
     },
     "metadata": {
      "needs_background": "light"
     },
     "output_type": "display_data"
    }
   ],
   "source": [
    "import scipy.io as sio\n",
    "import matplotlib.pyplot as plt\n",
    "import numpy as np\n",
    "from matplotlib.colors import ListedColormap\n",
    "cm_bright = ListedColormap(['#0000FF', '#FF0000'])\n",
    "\n",
    "data1 = sio.loadmat('perceptron_data_class1.mat')\n",
    "data2 = sio.loadmat('perceptron_data_class2.mat')\n",
    "\n",
    "# data at class 1 and class 2\n",
    "data1 = data1['perceptron_data_class1']\n",
    "data2 = data2['perceptron_data_class2']\n",
    "\n",
    "# put your code here\n",
    "# plot data 1 as class red and data 2 as class blue\n",
    "plt.scatter(data1[:,0], data1[:,1], c='r')\n",
    "plt.scatter(data2[:,0], data2[:,1], c='b')\n",
    "plt.show()\n",
    "\n",
    "##########\n",
    "# create single data and targets arrays\n",
    "\n",
    "# targets vector\n",
    "target1 = np.ones((np.shape(data1)[0], 1))\n",
    "target2 = -np.ones((np.shape(data2)[0],1))\n",
    "\n",
    "targets = np.vstack((target1, target2))\n",
    "\n",
    "# vector containing all data points\n",
    "data = np.vstack((data1, data2))\n",
    "\n",
    "##########\n",
    "# center data\n",
    "\n",
    "# find the mean of each row\n",
    "centerMass = np.mean(data, axis=0)\n",
    "centerMass = np.expand_dims(centerMass, 1)\n",
    "\n",
    "# center the data into the origin\n",
    "centeredData = data - np.matmul(np.ones((np.shape(data)[0],1)), \\\n",
    "                                 centerMass.T)\n",
    "\n",
    "##########\n",
    "# create new arrays to hold the centered versions of the data\n",
    "class1Length = np.shape(data1)[0] \n",
    "class2Length = np.shape(data2)[0] \n",
    "\n",
    "centeredData1 = centeredData[:class1Length,:]\n",
    "centeredData2 = centeredData[class1Length:,:]\n",
    "\n",
    "##########\n",
    "\n",
    "# plot centered data\n",
    "plt.scatter(centeredData[: class1Length, 0], \\\n",
    "            centeredData[: class1Length, 1], c='r')\n",
    "plt.scatter(centeredData[class1Length : class1Length + class2Length - 1, 0], \\\n",
    "            centeredData[class1Length : class1Length + class2Length - 1, 1], c='b')\n",
    "plt.show()"
   ]
  },
  {
   "cell_type": "code",
   "execution_count": 2,
   "metadata": {},
   "outputs": [
    {
     "name": "stdout",
     "output_type": "stream",
     "text": [
      "[[0.78477602]\n",
      " [0.02204464]]\n"
     ]
    },
    {
     "data": {
      "image/png": "[encoded data removed]",
      "text/plain": [
       "<Figure size 432x288 with 1 Axes>"
      ]
     },
     "metadata": {
      "needs_background": "light"
     },
     "output_type": "display_data"
    }
   ],
   "source": [
    "# create random beta\n",
    "beta = np.random.normal(0, 1, (2, 1))\n",
    "print(beta)\n",
    "\n",
    "# append intercept\n",
    "beta0 = 0\n",
    "beta = np.vstack((beta0, beta))\n",
    "\n",
    "# create mesh\n",
    "x1Min = np.min(centeredData[:,0])\n",
    "x1Max = np.max(centeredData[:,0])\n",
    "\n",
    "x2Min = np.min(centeredData[:,1])\n",
    "x2Max = np.max(centeredData[:,1])\n",
    "\n",
    "xx, yy = np.meshgrid(np.linspace(x1Min, x1Max, 50), np.linspace(x2Min, x2Max, 50))\n",
    "\n",
    "# create x tilde array by stacking xx and yy\n",
    "xxTilde = np.hstack((np.expand_dims(xx.flatten(), 1), np.expand_dims(yy.flatten(), 1)))\n",
    "# add 1s for beta0\n",
    "xxTilde = np.hstack((np.ones((len(xx.flatten()), 1)), xxTilde))\n",
    "\n",
    "# create prediction using random beta\n",
    "prediction = np.matmul(xxTilde, beta)\n",
    "\n",
    "# clean prediction (1s or -1s)\n",
    "final_prediction = (prediction > 0) * 2 - 1\n",
    "\n",
    "# plot data and background mesh\n",
    "plt.scatter(centeredData[: class1Length, 0], \\\n",
    "            centeredData[: class1Length, 1], c='r')\n",
    "plt.scatter(centeredData[class1Length : class1Length + class2Length - 1, 0], \\\n",
    "            centeredData[class1Length : class1Length + class2Length - 1, 1], c='b')\n",
    "plt.contourf(xx, yy, np.reshape(final_prediction, \\\n",
    "                                np.shape(xx)), levels = 2,alpha=0.2, cmap=cm_bright)\n",
    "plt.show()"
   ]
  },
  {
   "cell_type": "code",
   "execution_count": 3,
   "metadata": {},
   "outputs": [],
   "source": [
    "# create xtilde\n",
    "xTilde = np.hstack((np.ones((centeredData.shape[0], 1)), centeredData))\n",
    "\n",
    "# predict classifications\n",
    "dataPrediction = np.matmul(xTilde, beta)\n",
    "dataPrediction = (dataPrediction > 0) * 2 - 1\n",
    "\n",
    "# find all misclassified points\n",
    "misclassifiedPoints = centeredData[np.squeeze(np.not_equal(targets, dataPrediction))]\n",
    "misclassifiedTargets = targets[np.squeeze(np.not_equal(targets, dataPrediction))]\n",
    "\n",
    "##########\n",
    "# loop over misclassified points until none are left\n",
    "# while (len(misclassifiedPoints) > 0):\n",
    "for i in range(10):\n",
    "    # grab xi and ti\n",
    "    xi = misclassifiedPoints[0, :]\n",
    "    ti = misclassifiedTargets[0, :]\n",
    "    xiTilde = np.hstack((1, xi))\n",
    "    \n",
    "    # compute gradient\n",
    "    learningRate = 0.1\n",
    "    beta = beta - (learningRate * ti * xiTilde).reshape(-1, 1)\n",
    "    \n",
    "    # compute prediction again\n",
    "    dataPrediction = np.matmul(xTilde, beta)\n",
    "    dataPrediction = (dataPrediction > 0) * 2 - 1\n",
    "    misclassifiedPoints = centeredData[np.squeeze(np.not_equal(targets, dataPrediction))]\n",
    "    misclassifiedTargets = targets[np.squeeze(np.not_equal(targets, dataPrediction))]"
   ]
  },
  {
   "cell_type": "code",
   "execution_count": 4,
   "metadata": {},
   "outputs": [
    {
     "data": {
      "image/png": "[encoded data removed]",
      "text/plain": [
       "<Figure size 432x288 with 1 Axes>"
      ]
     },
     "metadata": {
      "needs_background": "light"
     },
     "output_type": "display_data"
    }
   ],
   "source": [
    "# calculate final prediction\n",
    "prediction = np.matmul(xxTilde, beta)\n",
    "finalPrediction = (prediction > 0) *2 -1\n",
    "\n",
    "# plot final perceptron prediction\n",
    "plt.scatter(centeredData[: class1Length, 0], \\\n",
    "            centeredData[: class1Length, 1], c='r')\n",
    "plt.scatter(centeredData[class1Length : class1Length + class2Length - 1, 0], \\\n",
    "            centeredData[class1Length : class1Length + class2Length - 1, 1], c='b')\n",
    "plt.contourf(xx, yy, np.reshape(finalPrediction, \\\n",
    "                                np.shape(xx)), levels = 2,alpha=0.2, cmap=cm_bright)\n",
    "plt.show()"
   ]
  },
  {
   "cell_type": "markdown",
   "metadata": {},
   "source": [
    "#### Exercise 2.\n",
    "\n",
    "__2a.__ Load the data below. Using the neural_network module from scikit-learn and its MLPClassifier model, learn a classifier, for the dataset below using \n",
    "\n",
    "- One hidden layer with a linear activation function and \n",
    "    - One neuron\n",
    "    - Two neurons\n",
    "    \n",
    "    \n",
    "    \n",
    "- One hidden layer with a non linear activation function (take Relu for example or a binary step)\n",
    "    - One neuron\n",
    "    - Two neurons\n",
    "\n",
    "How many neurons, hidden layers do you need to learn the distribution of the data? Do you have an idea why?\n",
    "\n",
    "Try increasing the number of neurons and hidden layers. Then try different values of the learning rate. \n"
   ]
  },
  {
   "cell_type": "code",
   "execution_count": 5,
   "metadata": {},
   "outputs": [
    {
     "data": {
      "image/png": "[encoded data removed]",
      "text/plain": [
       "<Figure size 432x288 with 1 Axes>"
      ]
     },
     "metadata": {
      "needs_background": "light"
     },
     "output_type": "display_data"
    }
   ],
   "source": [
    "import scipy.io as sio\n",
    "import numpy as np\n",
    "import matplotlib.pyplot as plt\n",
    "from sklearn.neural_network import MLPClassifier\n",
    "from matplotlib.colors import ListedColormap\n",
    "cm_bright = ListedColormap(['#FF0000', '#0000FF'])\n",
    "\n",
    "# import data\n",
    "data1 = sio.loadmat('neural_net_class1.mat')\n",
    "data2 = sio.loadmat('neural_net_class2.mat')\n",
    "data1 = data1['neural_net_class1']\n",
    "data2 = data2['neural_net_class2']\n",
    "\n",
    "# plot data\n",
    "plt.scatter(data1[:,0], data1[:,1], c='r')\n",
    "plt.scatter(data2[:,0], data2[:,1], c='b')\n",
    "plt.show()"
   ]
  },
  {
   "cell_type": "code",
   "execution_count": 6,
   "metadata": {},
   "outputs": [
    {
     "name": "stderr",
     "output_type": "stream",
     "text": [
      "/home/pedro/anaconda3/lib/python3.8/site-packages/sklearn/utils/validation.py:72: DataConversionWarning: A column-vector y was passed when a 1d array was expected. Please change the shape of y to (n_samples, ), for example using ravel().\n",
      "  return f(**kwargs)\n"
     ]
    },
    {
     "data": {
      "image/png": "[encoded data removed]",
      "text/plain": [
       "<Figure size 432x288 with 1 Axes>"
      ]
     },
     "metadata": {
      "needs_background": "light"
     },
     "output_type": "display_data"
    }
   ],
   "source": [
    "# neural net with only one neuron\n",
    "\n",
    "# combine data\n",
    "data = np.vstack((data1, data2))\n",
    "\n",
    "# create targets array\n",
    "targets1 = np.ones((np.shape(data1)[0], 1))\n",
    "targets2 = np.zeros((np.shape(data2)[0], 1))\n",
    "target = np.vstack((targets1, targets2))\n",
    "\n",
    "# create neural network using a logistic activation and 1 layer\n",
    "classifier = MLPClassifier(max_iter=1000, hidden_layer_sizes=(1,), activation=\"logistic\", solver=\"lbfgs\")\n",
    "# train network\n",
    "classifier.fit(data, target)\n",
    "\n",
    "##########\n",
    "# create mesh\n",
    "x1Min = np.min(data[:, 0])\n",
    "x1Max = np.max(data[:, 0])\n",
    "x2Min = np.min(data[:, 1])\n",
    "x2Max = np.max(data[:, 1])\n",
    "\n",
    "xx, yy = np.meshgrid(np.linspace(x1Min, x1Max, 100), np.linspace(x2Min, x2Max, 100))\n",
    "\n",
    "# calculate prediction using model\n",
    "xPredict = np.vstack((xx.flatten(), yy.flatten())).T\n",
    "prediction = classifier.predict(xPredict)\n",
    "\n",
    "# plot\n",
    "plt.scatter(data1[:,0], data1[:,1], c='r')\n",
    "plt.scatter(data2[:,0], data2[:,1], c='b')\n",
    "plt.contourf(xx, yy, np.reshape(prediction > 0.5, np.shape(xx)), levels=2, alpha=0.2, cmap=cm_bright)\n",
    "plt.show()"
   ]
  },
  {
   "cell_type": "markdown",
   "metadata": {},
   "source": [
    "__2b.__ Keep the dataset from above. try to change the intialization of the training algorithm. Plot the resulting classifier for a couple of different initializations. What do you see?\n",
    "\n",
    "Do it for a small network first. Then repeat those experiments for larger architectures. I.e. increase the number of neurons and the number of layers. What do you see when you change the initialization?\n"
   ]
  },
  {
   "cell_type": "code",
   "execution_count": 7,
   "metadata": {},
   "outputs": [
    {
     "ename": "AttributeError",
     "evalue": "'str' object has no attribute 'decode'",
     "output_type": "error",
     "traceback": [
      "\u001b[0;31m---------------------------------------------------------------------------\u001b[0m",
      "\u001b[0;31mAttributeError\u001b[0m                            Traceback (most recent call last)",
      "\u001b[0;32m<ipython-input-7-ac59fc3d6140>\u001b[0m in \u001b[0;36m<module>\u001b[0;34m\u001b[0m\n\u001b[1;32m     26\u001b[0m                               \u001b[0mhidden_layer_sizes\u001b[0m \u001b[0;34m=\u001b[0m \u001b[0;34m(\u001b[0m\u001b[0;36m50\u001b[0m\u001b[0;34m,\u001b[0m\u001b[0;36m50\u001b[0m\u001b[0;34m)\u001b[0m\u001b[0;34m,\u001b[0m\u001b[0;31m \u001b[0m\u001b[0;31m\\\u001b[0m\u001b[0;34m\u001b[0m\u001b[0;34m\u001b[0m\u001b[0m\n\u001b[1;32m     27\u001b[0m                               activation = 'logistic', solver = 'lbfgs')\n\u001b[0;32m---> 28\u001b[0;31m \u001b[0mmy_classifier\u001b[0m\u001b[0;34m.\u001b[0m\u001b[0mfit\u001b[0m\u001b[0;34m(\u001b[0m\u001b[0mdata\u001b[0m\u001b[0;34m,\u001b[0m \u001b[0mnp\u001b[0m\u001b[0;34m.\u001b[0m\u001b[0mravel\u001b[0m\u001b[0;34m(\u001b[0m\u001b[0mtarget\u001b[0m\u001b[0;34m)\u001b[0m\u001b[0;34m)\u001b[0m\u001b[0;34m\u001b[0m\u001b[0;34m\u001b[0m\u001b[0m\n\u001b[0m\u001b[1;32m     29\u001b[0m \u001b[0;34m\u001b[0m\u001b[0m\n\u001b[1;32m     30\u001b[0m \u001b[0;34m\u001b[0m\u001b[0m\n",
      "\u001b[0;32m~/anaconda3/lib/python3.8/site-packages/sklearn/neural_network/_multilayer_perceptron.py\u001b[0m in \u001b[0;36mfit\u001b[0;34m(self, X, y)\u001b[0m\n\u001b[1;32m   1025\u001b[0m         \u001b[0mself\u001b[0m \u001b[0;34m:\u001b[0m \u001b[0mreturns\u001b[0m \u001b[0ma\u001b[0m \u001b[0mtrained\u001b[0m \u001b[0mMLP\u001b[0m \u001b[0mmodel\u001b[0m\u001b[0;34m.\u001b[0m\u001b[0;34m\u001b[0m\u001b[0;34m\u001b[0m\u001b[0m\n\u001b[1;32m   1026\u001b[0m         \"\"\"\n\u001b[0;32m-> 1027\u001b[0;31m         return self._fit(X, y, incremental=(self.warm_start and\n\u001b[0m\u001b[1;32m   1028\u001b[0m                                             hasattr(self, \"classes_\")))\n\u001b[1;32m   1029\u001b[0m \u001b[0;34m\u001b[0m\u001b[0m\n",
      "\u001b[0;32m~/anaconda3/lib/python3.8/site-packages/sklearn/neural_network/_multilayer_perceptron.py\u001b[0m in \u001b[0;36m_fit\u001b[0;34m(self, X, y, incremental)\u001b[0m\n\u001b[1;32m    373\u001b[0m         \u001b[0;31m# Run the LBFGS solver\u001b[0m\u001b[0;34m\u001b[0m\u001b[0;34m\u001b[0m\u001b[0;34m\u001b[0m\u001b[0m\n\u001b[1;32m    374\u001b[0m         \u001b[0;32melif\u001b[0m \u001b[0mself\u001b[0m\u001b[0;34m.\u001b[0m\u001b[0msolver\u001b[0m \u001b[0;34m==\u001b[0m \u001b[0;34m'lbfgs'\u001b[0m\u001b[0;34m:\u001b[0m\u001b[0;34m\u001b[0m\u001b[0;34m\u001b[0m\u001b[0m\n\u001b[0;32m--> 375\u001b[0;31m             self._fit_lbfgs(X, y, activations, deltas, coef_grads,\n\u001b[0m\u001b[1;32m    376\u001b[0m                             intercept_grads, layer_units)\n\u001b[1;32m    377\u001b[0m         \u001b[0;32mreturn\u001b[0m \u001b[0mself\u001b[0m\u001b[0;34m\u001b[0m\u001b[0;34m\u001b[0m\u001b[0m\n",
      "\u001b[0;32m~/anaconda3/lib/python3.8/site-packages/sklearn/neural_network/_multilayer_perceptron.py\u001b[0m in \u001b[0;36m_fit_lbfgs\u001b[0;34m(self, X, y, activations, deltas, coef_grads, intercept_grads, layer_units)\u001b[0m\n\u001b[1;32m    469\u001b[0m                 },\n\u001b[1;32m    470\u001b[0m                 args=(X, y, activations, deltas, coef_grads, intercept_grads))\n\u001b[0;32m--> 471\u001b[0;31m         \u001b[0mself\u001b[0m\u001b[0;34m.\u001b[0m\u001b[0mn_iter_\u001b[0m \u001b[0;34m=\u001b[0m \u001b[0m_check_optimize_result\u001b[0m\u001b[0;34m(\u001b[0m\u001b[0;34m\"lbfgs\"\u001b[0m\u001b[0;34m,\u001b[0m \u001b[0mopt_res\u001b[0m\u001b[0;34m,\u001b[0m \u001b[0mself\u001b[0m\u001b[0;34m.\u001b[0m\u001b[0mmax_iter\u001b[0m\u001b[0;34m)\u001b[0m\u001b[0;34m\u001b[0m\u001b[0;34m\u001b[0m\u001b[0m\n\u001b[0m\u001b[1;32m    472\u001b[0m         \u001b[0mself\u001b[0m\u001b[0;34m.\u001b[0m\u001b[0mloss_\u001b[0m \u001b[0;34m=\u001b[0m \u001b[0mopt_res\u001b[0m\u001b[0;34m.\u001b[0m\u001b[0mfun\u001b[0m\u001b[0;34m\u001b[0m\u001b[0;34m\u001b[0m\u001b[0m\n\u001b[1;32m    473\u001b[0m         \u001b[0mself\u001b[0m\u001b[0;34m.\u001b[0m\u001b[0m_unpack\u001b[0m\u001b[0;34m(\u001b[0m\u001b[0mopt_res\u001b[0m\u001b[0;34m.\u001b[0m\u001b[0mx\u001b[0m\u001b[0;34m)\u001b[0m\u001b[0;34m\u001b[0m\u001b[0;34m\u001b[0m\u001b[0m\n",
      "\u001b[0;32m~/anaconda3/lib/python3.8/site-packages/sklearn/utils/optimize.py\u001b[0m in \u001b[0;36m_check_optimize_result\u001b[0;34m(solver, result, max_iter, extra_warning_msg)\u001b[0m\n\u001b[1;32m    241\u001b[0m                 \u001b[0;34m\"    https://scikit-learn.org/stable/modules/\"\u001b[0m\u001b[0;34m\u001b[0m\u001b[0;34m\u001b[0m\u001b[0m\n\u001b[1;32m    242\u001b[0m                 \u001b[0;34m\"preprocessing.html\"\u001b[0m\u001b[0;34m\u001b[0m\u001b[0;34m\u001b[0m\u001b[0m\n\u001b[0;32m--> 243\u001b[0;31m             ).format(solver, result.status, result.message.decode(\"latin1\"))\n\u001b[0m\u001b[1;32m    244\u001b[0m             \u001b[0;32mif\u001b[0m \u001b[0mextra_warning_msg\u001b[0m \u001b[0;32mis\u001b[0m \u001b[0;32mnot\u001b[0m \u001b[0;32mNone\u001b[0m\u001b[0;34m:\u001b[0m\u001b[0;34m\u001b[0m\u001b[0;34m\u001b[0m\u001b[0m\n\u001b[1;32m    245\u001b[0m                 \u001b[0mwarning_msg\u001b[0m \u001b[0;34m+=\u001b[0m \u001b[0;34m\"\\n\"\u001b[0m \u001b[0;34m+\u001b[0m \u001b[0mextra_warning_msg\u001b[0m\u001b[0;34m\u001b[0m\u001b[0;34m\u001b[0m\u001b[0m\n",
      "\u001b[0;31mAttributeError\u001b[0m: 'str' object has no attribute 'decode'"
     ]
    }
   ],
   "source": [
    "# create neural network using a logistic activation and multiple layers\n",
    "# classifier = MLPClassifier(max_iter=2000, hidden_layer_sizes=(50, 50), activation=\"logistic\", solver=\"lbfgs\", alpha=0.1)\n",
    "# # train network\n",
    "# classifier.fit(data, target)\n",
    "\n",
    "##########\n",
    "# create mesh\n",
    "# x1Min = np.min(data[:, 0])\n",
    "# x1Max = np.max(data[:, 0])\n",
    "# x2Min = np.min(data[:, 1])\n",
    "# x2Max = np.max(data[:, 1])\n",
    "\n",
    "# xx, yy = np.meshgrid(np.linspace(x1Min, x1Max, 100), np.linspace(x2Min, x2Max, 100))\n",
    "\n",
    "# # calculate prediction using model\n",
    "# xPredict = np.vstack((xx.flatten(), yy.flatten())).T\n",
    "# prediction = classifier.predict(xPredict)\n",
    "\n",
    "# # plot\n",
    "# plt.scatter(data1[:,0], data1[:,1], c='r')\n",
    "# plt.scatter(data2[:,0], data2[:,1], c='b')\n",
    "# plt.contourf(xx, yy, np.reshape(prediction > 0.5, np.shape(xx)), levels=2, alpha=0.2, cmap=cm_bright)\n",
    "# plt.show()\n",
    "\n",
    "my_classifier = MLPClassifier(max_iter=2000, \\\n",
    "                              hidden_layer_sizes = (50,50), \\\n",
    "                              activation = 'logistic', solver = 'lbfgs')\n",
    "my_classifier.fit(data, np.ravel(target))\n",
    "\n",
    "\n",
    "x1min = np.min(data[:,0])\n",
    "x1max = np.max(data[:,0])\n",
    "x2min = np.min(data[:,1])\n",
    "x2max = np.max(data[:,1])\n",
    "\n",
    "xx, yy = np.meshgrid(np.linspace(x1min,x1max, 100), np.linspace(x2min, x2max, 100))\n",
    "\n",
    "Xprediction = np.vstack((xx.flatten(), yy.flatten()))\n",
    "Xprediction = Xprediction.T\n",
    "predicted_targets = my_classifier.predict(Xprediction)\n",
    "\n",
    "plt.scatter(data1[:,0], data1[:,1], c='r')\n",
    "plt.scatter(data2[:,0], data2[:,1], c='b')\n",
    "plt.contourf(xx, yy, np.reshape(predicted_targets>0.5, np.shape(xx)), levels = 2,alpha=0.2, cmap=cm_bright)\n",
    "plt.show()"
   ]
  },
  {
   "cell_type": "markdown",
   "metadata": {},
   "source": [
    "#### Exercise 3. \n",
    "\n",
    "__3a.__Load the data below. Try to build the best neural network you can for this dataset. Split the data between a training and a test set and evaluate the models you built. What is the best validation error you can get?\n"
   ]
  },
  {
   "cell_type": "code",
   "execution_count": null,
   "metadata": {},
   "outputs": [],
   "source": [
    "\n",
    "import scipy.io as sio\n",
    "data1 = sio.loadmat('neural_net_ex2_class1.mat')\n",
    "data2 = sio.loadmat('neural_net_ex2_class2.mat')\n",
    "\n",
    "data1 = data1['neural_net_ex2_class1']\n",
    "data2 = data2['neural_net_ex2_class2']\n",
    "\n",
    "from sklearn.neural_network import MLPClassifier\n",
    "\n",
    "\n",
    "# put your code here"
   ]
  },
  {
   "cell_type": "markdown",
   "metadata": {},
   "source": [
    "\n",
    "__3b.__ With the same dataset, add additional features to your model, e.g. $\\sin(x), \\sin(y)$ or other monomials. Can you improve your classifier ?"
   ]
  },
  {
   "cell_type": "code",
   "execution_count": null,
   "metadata": {},
   "outputs": [],
   "source": [
    "# put your code here\n",
    "\n",
    "\n"
   ]
  }
 ],
 "metadata": {
  "kernelspec": {
   "display_name": "Python 3",
   "language": "python",
   "name": "python3"
  },
  "language_info": {
   "codemirror_mode": {
    "name": "ipython",
    "version": 3
   },
   "file_extension": ".py",
   "mimetype": "text/x-python",
   "name": "python",
   "nbconvert_exporter": "python",
   "pygments_lexer": "ipython3",
   "version": "3.8.5"
  }
 },
 "nbformat": 4,
 "nbformat_minor": 2
}
