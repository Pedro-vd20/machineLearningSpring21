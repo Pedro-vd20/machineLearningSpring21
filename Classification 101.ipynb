{
 "cells": [
  {
   "cell_type": "code",
   "execution_count": 1,
   "id": "assisted-classification",
   "metadata": {},
   "outputs": [],
   "source": [
    "# import dependencies\n",
    "import numpy as np\n",
    "from numpy.linalg import inv\n",
    "from sklearn.datasets import make_blobs\n",
    "from matplotlib import pyplot as plt\n",
    "from sklearn.preprocessing import OneHotEncoder\n",
    "from __future__ import division\n",
    "from scipy import stats"
   ]
  },
  {
   "cell_type": "code",
   "execution_count": 2,
   "id": "banned-exploration",
   "metadata": {},
   "outputs": [
    {
     "name": "stdout",
     "output_type": "stream",
     "text": [
      "[1 0 0 1 0 1 1 2 0 2 2 2 1 0 0 2 2 0 1 2 2 2 2 0 1 1 0 1 0 1]\n",
      "[[0. 1. 0.]\n",
      " [1. 0. 0.]\n",
      " [1. 0. 0.]\n",
      " [0. 1. 0.]\n",
      " [1. 0. 0.]\n",
      " [0. 1. 0.]\n",
      " [0. 1. 0.]\n",
      " [0. 0. 1.]\n",
      " [1. 0. 0.]\n",
      " [0. 0. 1.]\n",
      " [0. 0. 1.]\n",
      " [0. 0. 1.]\n",
      " [0. 1. 0.]\n",
      " [1. 0. 0.]\n",
      " [1. 0. 0.]\n",
      " [0. 0. 1.]\n",
      " [0. 0. 1.]\n",
      " [1. 0. 0.]\n",
      " [0. 1. 0.]\n",
      " [0. 0. 1.]\n",
      " [0. 0. 1.]\n",
      " [0. 0. 1.]\n",
      " [0. 0. 1.]\n",
      " [1. 0. 0.]\n",
      " [0. 1. 0.]\n",
      " [0. 1. 0.]\n",
      " [1. 0. 0.]\n",
      " [0. 1. 0.]\n",
      " [1. 0. 0.]\n",
      " [0. 1. 0.]]\n"
     ]
    }
   ],
   "source": [
    "# make the features (x) and their classification (y)\n",
    "x, y = make_blobs(n_samples=30, centers=3, n_features=2)\n",
    "\n",
    "# create a OneHotEncoder model for the y-data\n",
    "enc = OneHotEncoder()\n",
    "enc.fit(y.reshape(-1, 1))\n",
    "# one-hot array for classifiers\n",
    "y_hot = enc.transform(y.reshape(-1, 1)).toarray() \n",
    "\n",
    "print(y)\n",
    "print(y_hot)"
   ]
  },
  {
   "cell_type": "code",
   "execution_count": 3,
   "id": "tender-middle",
   "metadata": {},
   "outputs": [
    {
     "name": "stdout",
     "output_type": "stream",
     "text": [
      "Shape of T: (30, 3)\n",
      "[[-0.72771369  1.12776868  0.59994501]\n",
      " [ 0.17744833 -0.15443154 -0.02301679]\n",
      " [ 0.05037433  0.00478929 -0.05516362]]\n"
     ]
    }
   ],
   "source": [
    "x_tilde = np.hstack((np.ones((len(x), 1)), x))\n",
    "\n",
    "# X.T * X\n",
    "XX = np.matmul(x_tilde.T, x_tilde)\n",
    "# one-hot K-dimensional vectors for classifications\n",
    "T = y_hot\n",
    "# X.T * T\n",
    "XT = np.matmul(x_tilde.T, T)\n",
    "\n",
    "print(\"Shape of T:\", np.shape(T))\n",
    "\n",
    "# Beta should be size K x (D + 1)\n",
    "# where K is the number of categories\n",
    "# and D is the number of features\n",
    "\n",
    "# B = (X.T * X)^-1 * X.T * T\n",
    "Beta = np.matmul(inv(XX), XT)\n",
    "print(Beta)"
   ]
  },
  {
   "cell_type": "code",
   "execution_count": 4,
   "id": "liable-funds",
   "metadata": {},
   "outputs": [
    {
     "data": {
      "image/png": "[encoded data removed]",
      "text/plain": [
       "<Figure size 432x288 with 1 Axes>"
      ]
     },
     "metadata": {
      "needs_background": "light"
     },
     "output_type": "display_data"
    }
   ],
   "source": [
    "plt.scatter(x[:, 0], x[:, 1], c=y)\n",
    "plt.show()"
   ]
  },
  {
   "cell_type": "code",
   "execution_count": 5,
   "id": "helpful-message",
   "metadata": {},
   "outputs": [
    {
     "name": "stdout",
     "output_type": "stream",
     "text": [
      "[[-1.47102146  1.20761238  1.26340908]\n",
      " [-1.45363362  1.19247991  1.26115371]\n",
      " [-1.43624578  1.17734745  1.25889833]\n",
      " ...\n",
      " [ 1.41481863 -0.14622201 -0.26859662]\n",
      " [ 1.43220647 -0.16135447 -0.270852  ]\n",
      " [ 1.4495943  -0.17648694 -0.27310737]]\n"
     ]
    },
    {
     "data": {
      "image/png": "[encoded data removed]",
      "text/plain": [
       "<Figure size 432x288 with 1 Axes>"
      ]
     },
     "metadata": {
      "needs_background": "light"
     },
     "output_type": "display_data"
    }
   ],
   "source": [
    "# X has 2 features\n",
    "# select min/max of feature 1\n",
    "x1min = np.min(x[:, 0])\n",
    "x1max = np.max(x[:, 0])\n",
    "# select min/max of feature 2\n",
    "x2min = np.min(x[:, 1])\n",
    "x2max = np.max(x[:, 1])\n",
    "\n",
    "# create a set of test points for feature 1 and feature 2\n",
    "# that lie between the minimum and maximum of each\n",
    "xx1, xx2 = np.meshgrid(np.linspace(x1min, x1max, 100), np.linspace(x2min, x2max, 100))\n",
    "\n",
    "# Create array of prediction features\n",
    "xPredict = np.vstack((xx1.flatten(), xx2.flatten())).T\n",
    "# create x_tilde for predictions\n",
    "xTildePredict = np.hstack((np.ones((len(xPredict), 1)), xPredict))\n",
    "\n",
    "# compute predicted classifications (one-hot) as T = BX\n",
    "prediction = np.matmul(xTildePredict, Beta)\n",
    "print(prediction)\n",
    "\n",
    "# transfer from one-hot to the number\n",
    "predictedTargets = np.zeros((len(prediction), 1))\n",
    "for i in range(len(prediction)):\n",
    "    # grab index of largets (closest to 1)\n",
    "    predictedTargets[i] = np.argmax(prediction[i])\n",
    "    \n",
    "\n",
    "plt.scatter(x[:, 0], x[:, 1], c=y)\n",
    "plt.contourf(xx1, xx2, np.reshape(predictedTargets, np.shape(xx1)), alpha=0.3)\n",
    "plt.show()"
   ]
  },
  {
   "cell_type": "code",
   "execution_count": 6,
   "id": "dramatic-nicaragua",
   "metadata": {},
   "outputs": [
    {
     "data": {
      "image/png": "[encoded data removed]",
      "text/plain": [
       "<Figure size 432x288 with 1 Axes>"
      ]
     },
     "metadata": {
      "needs_background": "light"
     },
     "output_type": "display_data"
    },
    {
     "data": {
      "image/png": "[encoded data removed]",
      "text/plain": [
       "<Figure size 432x288 with 1 Axes>"
      ]
     },
     "metadata": {
      "needs_background": "light"
     },
     "output_type": "display_data"
    },
    {
     "data": {
      "image/png": "[encoded data removed]",
      "text/plain": [
       "<Figure size 432x288 with 1 Axes>"
      ]
     },
     "metadata": {
      "needs_background": "light"
     },
     "output_type": "display_data"
    }
   ],
   "source": [
    "# One vs one approach\n",
    "\n",
    "num_classes = max(y) + 1\n",
    "\n",
    "# how many 1 vs 1 pairings possible\n",
    "num_classifiers = int(num_classes * (num_classes - 1) / 2)\n",
    "\n",
    "# Create matrix to store all comparisons\n",
    "# will be size len(features) x num_classifiers\n",
    "PredictionMatrix = np.zeros((len(xx1.flatten()), num_classifiers))\n",
    "\n",
    "# keep track of current index of PredictionMatrix\n",
    "counter = 0\n",
    "\n",
    "# Loop through every possible combination of categories\n",
    "for i in range(num_classes):\n",
    "    for j in range(i + 1, num_classes):\n",
    "        # get all indeces where y is classified as i\n",
    "        indeces_i = np.squeeze(np.where(y == i))\n",
    "        # get all indeces where y is classified as j\n",
    "        indeces_j = np.squeeze(np.where(y == j))\n",
    "        \n",
    "        # grab all features corresponding to i and to j\n",
    "        points_i = x_tilde[indeces_i, :]\n",
    "        points_j = x_tilde[indeces_j, :]\n",
    "        # create classes for i (y = 1) and j (y = -1)\n",
    "        targets_i = np.ones((len(indeces_i), 1))\n",
    "        targets_j = -np.ones((len(indeces_j), 1))\n",
    "        \n",
    "        # create set of features\n",
    "        x_tilde_ij = np.vstack((points_i, points_j))\n",
    "        # create set of targets\n",
    "        targets_ij = np.vstack((targets_i, targets_j))\n",
    "        \n",
    "        # learning the plane\n",
    "        XX = np.matmul(x_tilde_ij.T, x_tilde_ij)\n",
    "        XT = np.matmul(x_tilde_ij.T, targets_ij)\n",
    "        \n",
    "        # B = (X^T * X)^-1 * X^T * T\n",
    "        Beta_ij = np.matmul(inv(XX), XT)\n",
    "        \n",
    "        # recall to xTildePredict from last cell\n",
    "        # calculate predictions\n",
    "        prediction_ij = np.matmul(xTildePredict, Beta_ij)\n",
    "        \n",
    "        # gather all indeces where prediction > 0\n",
    "        predict_indeces_i = np.squeeze(np.where(prediction_ij > 0))\n",
    "        # gather all indeces where prediction <= 0\n",
    "        predict_indeces_j = np.squeeze(np.where(prediction_ij <= 0))\n",
    "        \n",
    "        # create final set of classifications\n",
    "        target_final_ij = np.zeros((len(prediction_ij), 1))\n",
    "        target_final_ij[predict_indeces_i] = i\n",
    "        target_final_ij[predict_indeces_j] = j\n",
    "        \n",
    "        # place predictions on the final PredictionMatrix\n",
    "        PredictionMatrix[:, counter] = np.squeeze(target_final_ij)\n",
    "        counter += 1\n",
    "        \n",
    "        # plot i vs j\n",
    "        plt.scatter(x[:,0], x[:,1], c = y)\n",
    "        plt.contourf(xx1, xx2, np.reshape(target_final_ij,np.shape(xx1)), alpha = .3)\n",
    "        plt.show()\n",
    "        \n",
    "\n",
    "        "
   ]
  },
  {
   "cell_type": "code",
   "execution_count": 7,
   "id": "nasty-joseph",
   "metadata": {},
   "outputs": [
    {
     "name": "stdout",
     "output_type": "stream",
     "text": [
      "[[2.]\n",
      " [2.]\n",
      " [2.]\n",
      " ...\n",
      " [0.]\n",
      " [0.]\n",
      " [0.]]\n"
     ]
    }
   ],
   "source": [
    "# compute final predictions\n",
    "final_predictions = np.zeros((len(PredictionMatrix), 1))\n",
    "\n",
    "for i in range(len(final_predictions)):\n",
    "    # grab most voted for\n",
    "    final_predictions[i] = stats.mode(PredictionMatrix[i])[0][0]\n",
    "    \n",
    "print(final_predictions)"
   ]
  }
 ],
 "metadata": {
  "kernelspec": {
   "display_name": "Python 3",
   "language": "python",
   "name": "python3"
  },
  "language_info": {
   "codemirror_mode": {
    "name": "ipython",
    "version": 3
   },
   "file_extension": ".py",
   "mimetype": "text/x-python",
   "name": "python",
   "nbconvert_exporter": "python",
   "pygments_lexer": "ipython3",
   "version": "3.8.5"
  }
 },
 "nbformat": 4,
 "nbformat_minor": 5
}
