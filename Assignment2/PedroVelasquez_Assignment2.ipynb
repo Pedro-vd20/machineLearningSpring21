{
 "cells": [
  {
   "cell_type": "markdown",
   "metadata": {},
   "source": [
    "# NYU Introduction to Machine Learning\n",
    "## Assignment 2\n",
    "\n",
    "__<font color='red'>Given date: February 20</font>__\n",
    "\n",
    "__<font color='red'>Due Date: March 8</font>__\n",
    "\n",
    "__Total: 25pts__\n",
    "\n",
    "In this assignment you will implement the main regularization approaches as well as cross validation. You will study how the OLS criterion that we used in regression can be extended to classification. "
   ]
  },
  {
   "cell_type": "markdown",
   "metadata": {},
   "source": [
    "#### Question 1. Understanding Cross validation (5pts)\n",
    "\n",
    "Using the lines below load the dataset 'Assignment2_Ex1_xi' and 'Assignment2_Ex1_ti'. Each of the points in the training set is represented by 5 features $x_{i,1}$, $x_{i,2}, \\ldots x_{i,5}$. Among those features we want to find those which are the most meaningful to the description of the targets $t_i$. You can think of the targets as expressing for example the probability to develop a particular trait or disease and the features as encoding the expressivity of particular genes. In such a framework the objective would thus mean finding the genes that most influence the particular trait. For this we will implement a Best Subset Selection approach with cross validation. Complete the cell below by implementing the following steps\n",
    "\n",
    "__1.__ For each number of weights (d=1 to 5) compute all the subsets (beta_i, beta_j, ...) of size d of weights.   \n",
    "__2.__ Split the training set in K=5 bins, for each bin k=1,...5, learn the weights by using the linear_regression function of scikit learn (do not reimplement gradient descent except if you really have too much time). Learn the weights on the remaining K-1 bins then comute the MSE on bin k. \n",
    "__3.__ Find the optimal subset of coefficients by comparing the MSE and plot the MSE as a function of the number k of weights by averaging the errors over the size k subsets. I.e MSE(1) = (1/5)(MSE(beta0) + MSE(beta1) + ...MSE(beta4))\n"
   ]
  },
  {
   "cell_type": "code",
   "execution_count": 1,
   "metadata": {},
   "outputs": [
    {
     "data": {
      "image/png": "[encoded data removed]",
      "text/plain": [
       "<Figure size 432x288 with 1 Axes>"
      ]
     },
     "metadata": {
      "needs_background": "light"
     },
     "output_type": "display_data"
    },
    {
     "data": {
      "image/png": "[encoded data removed]",
      "text/plain": [
       "<Figure size 432x288 with 1 Axes>"
      ]
     },
     "metadata": {
      "needs_background": "light"
     },
     "output_type": "display_data"
    },
    {
     "data": {
      "image/png": "[encoded data removed]",
      "text/plain": [
       "<Figure size 432x288 with 1 Axes>"
      ]
     },
     "metadata": {
      "needs_background": "light"
     },
     "output_type": "display_data"
    },
    {
     "name": "stdout",
     "output_type": "stream",
     "text": [
      "Minimum MSE: 4.3641204995645106e-29\n",
      "Subset: (0, 1, 2, 3, 4, 5)\n"
     ]
    }
   ],
   "source": [
    "# Set-up cell\n",
    "# Will import all necessary packages, define constants, and define functions\n",
    "\n",
    "# packages used\n",
    "import numpy as np\n",
    "import matplotlib.pyplot as plt\n",
    "from sklearn import linear_model\n",
    "from itertools import combinations\n",
    "from math import comb\n",
    "\n",
    "\n",
    "# constants\n",
    "xi = np.load('Assignment2_Ex1_xi.npy')\n",
    "ti = np.load('Assignment2_Ex1_ti.npy')\n",
    "\n",
    "D = 5 # number of coefficients \n",
    "K = 5 # number of bins used for cross validation\n",
    "# Note that K does not have to be equal to D \n",
    "# (this is a choice we make here but we could have taken any value for K)\n",
    "\n",
    "# Errors\n",
    "MSE = np.zeros((D + 1,1))\n",
    "MSE_TOTAL = np.zeros((D + 1,1))\n",
    "\n",
    "##\n",
    "# split k-1 sections of the data for training and 1 for training\n",
    "# test_split indicates from what row to what row will be used for testing\n",
    "# test_split should be a 2-element list where element 1 is the index where the testing set starts (inclusive)\n",
    "# and element 2 is the index where the testing set ends (non-inclusive)\n",
    "def split_data(data, test_split):\n",
    "    start = test_split[0]\n",
    "    end = test_split[1]\n",
    "    training = np.append(data[0 : start], data[end :], axis=0)\n",
    "    testing = data[start: end]\n",
    "    return training, testing\n",
    "\n",
    "\n",
    "\n",
    "\n",
    "\n",
    "\n",
    "# Step 1: Finding the optimal d\n",
    "features = np.arange(0, D + 1)\n",
    "\n",
    "x_tilde = np.hstack((np.ones((len(xi), 1)), xi))\n",
    "\n",
    "# list to hold all MSE for each individual subset\n",
    "mse_d = []\n",
    "\n",
    "for d in np.arange(1,D+2):\n",
    "    mse_d.append([])\n",
    "    # 1) select each of the (D choose d) subset of coefficient and learn a \n",
    "    # model and compute the MSE\n",
    "    \n",
    "    # select subset of length d\n",
    "    for subset in combinations(features, d):\n",
    "        if (0 not in subset):\n",
    "            continue\n",
    "        # select all the features relevant to this subset\n",
    "        curr_x = x_tilde[:, subset]\n",
    "        \n",
    "        \n",
    "        #counter variable \n",
    "        mse_k = 0 # MSE accumulator for each cross validation across this subset\n",
    "        multiple = len(xi) // 5\n",
    "        for k in range(K):\n",
    "            test_range = [k * multiple, (k + 1) * multiple]\n",
    "            training_features, testing_features = split_data(curr_x, test_range)\n",
    "            training_targets, testing_targets = split_data(ti, test_range)\n",
    "            \n",
    "            # train model\n",
    "            my_regression_model = linear_model.LinearRegression()\n",
    "            my_regression_model.fit(training_features, training_targets)\n",
    "            \n",
    "            # run prediction\n",
    "            prediction = my_regression_model.predict(testing_features)\n",
    "        \n",
    "            # calculate MSE for this spefic cross validation for this specific subset\n",
    "            mse_k += np.true_divide(1, len(testing_features)) * np.sum((testing_targets - prediction) ** 2)\n",
    "        # add the average MSE for the subset\n",
    "        mse_d[-1].append(np.true_divide(mse_k, K))\n",
    "    \n",
    "    # 2) once you have computed the MSE for each of the \n",
    "    \n",
    "minMSE = mse_d[0][0]\n",
    "minIndex = [0, 0]\n",
    "\n",
    "minMSEArr = np.zeros((D + 1, 1))\n",
    "    \n",
    "for i in range(len(MSE)):\n",
    "    row = mse_d[i]\n",
    "    minMSEArr[i] = min(row)\n",
    "    for j in range(len(row)):\n",
    "        if row[j] < minMSE:\n",
    "            minMSE = row[j]\n",
    "            minIndex = [i, j]\n",
    "    MSE[i] = np.true_divide(sum(row), len(row))\n",
    "\n",
    "# # # Step 2 plotting the evolution of the average prediction error as a function of the number of coefficient\n",
    "fig = plt.figure()\n",
    "ax1 = fig.add_subplot()\n",
    "ax1.set_ylabel('MSE')\n",
    "ax1.set_xlabel(\"Subset size\")\n",
    "ax1.set_title('Average MSE for each subset size')\n",
    "plt.bar(np.arange(1, D + 2), MSE.flatten(), width=-0.3, align=\"edge\", color=\"y\")\n",
    "plt.show()\n",
    "\n",
    "fig = plt.figure()\n",
    "ax1 = fig.add_subplot()\n",
    "ax1.set_ylabel('MSE')\n",
    "ax1.set_xlabel(\"Subset size\")\n",
    "ax1.set_title('Minimum MSE for each subset size')\n",
    "plt.bar(np.arange(1, D + 2), minMSEArr.flatten(), width=-0.3, align=\"edge\", color=\"y\")\n",
    "plt.show()\n",
    "\n",
    "fig = plt.figure()\n",
    "ax1 = fig.add_subplot()\n",
    "ax1.set_ylabel('MSE')\n",
    "ax1.set_xlabel(\"Subset size\")\n",
    "ax1.set_title('Minimum MSE for each subset size')\n",
    "plt.bar(np.arange(3, D + 2), minMSEArr.flatten()[2:], width=-0.3, align=\"edge\", color=\"y\")\n",
    "plt.show()\n",
    "\n",
    "# absolute minimum MSE at subset\n",
    "print(\"Minimum MSE:\", minMSE)\n",
    "print(\"Subset:\", list(combinations(features, minIndex[0] + 1))[minIndex[1]])"
   ]
  },
  {
   "cell_type": "markdown",
   "metadata": {},
   "source": [
    "#### Question 2. Predicting graduate admissions (5pts)\n",
    "\n",
    "In this second question, we want to predict admission to graduate school based on a collection of features [provided by Kaggle](https://www.kaggle.com/mohansacharya/graduate-admissions) \n",
    "including: \n",
    "\n",
    "- GRE and TOEFL Scores\n",
    "- University Rating \n",
    "- Letter of Recommendation Strength \n",
    "- Undergraduate GPA \n",
    "- ...\n",
    "    \n",
    "We want to learn a ridge regression model (use the scikit learn model with the fit and predict functions). \n",
    "\n",
    "- Start by splitting the dataset into a training (about 90%) an a test (remaining 10%) parts using a call to the train_test_split function from the model_selection module. Put the test aside for the rest of the exercise. \n",
    "\n",
    "- Now that you are perfectly comfortable with the idea of cross validation, we will also try to evaluate the optimal lambda in the Ridge regression model. For this, you can use an extension of scikit learn Ridge regression model: sklearn.linear_model.RidgeCV. This extension lets you specify an array of $\\lambda$ values ($\\alpha$ in scikit learn) to try. The best value is then returned through a call to the 'alpha_' attribute of the model (read the [documentation](https://scikit-learn.org/stable/modules/generated/sklearn.linear_model.RidgeCV.html) for more details). Train the model (both lambda and beta) on the training subset of item 1.\n",
    "\n",
    "- Finally evaluate the prediction of your model on the 10% test set you kept on the side at the beginning. \n",
    "\n",
    "\n"
   ]
  },
  {
   "cell_type": "code",
   "execution_count": 2,
   "metadata": {},
   "outputs": [
    {
     "name": "stdout",
     "output_type": "stream",
     "text": [
      "Best alpha: 0.7000000000000001\n"
     ]
    },
    {
     "data": {
      "image/png": "[encoded data removed]",
      "text/plain": [
       "<Figure size 432x288 with 1 Axes>"
      ]
     },
     "metadata": {
      "needs_background": "light"
     },
     "output_type": "display_data"
    }
   ],
   "source": [
    "import numpy as np\n",
    "import pandas as pd\n",
    "import sklearn as sk\n",
    "import matplotlib.pyplot as plt\n",
    "from sklearn.linear_model import RidgeCV\n",
    "\n",
    "\n",
    "df = pd.read_csv(\"Admission_Predict.csv\")\n",
    "features = list(df.columns)[1:-1]\n",
    "target = df.columns[-1]\n",
    "\n",
    "# put your code here \n",
    "# split data\n",
    "training, testing = sk.model_selection.train_test_split(df, test_size=0.1, train_size=0.9)\n",
    "\n",
    "training_features = training[features].to_numpy()\n",
    "training_targets = training[target].to_numpy()\n",
    "testing_features = testing[features].to_numpy()\n",
    "testing_targets = testing[target].to_numpy()\n",
    "\n",
    "# create ridge model\n",
    "ridgeModel = RidgeCV(np.arange(0.1, 10, 0.1))\n",
    "ridgeModel.fit(training_features, training_targets)\n",
    "\n",
    "alpha = ridgeModel.alpha_\n",
    "print(\"Best alpha:\", alpha)\n",
    "\n",
    "prediction = ridgeModel.predict(testing_features)\n",
    "\n",
    "fig = plt.figure()\n",
    "ax1 = fig.add_subplot()\n",
    "ax1.set_ylabel('Probability of admission')\n",
    "ax1.set_xlabel(\"Student number\")\n",
    "ax1.set_title('Predicted vs actual probability of admission')\n",
    "plt.bar(np.arange(1, len(testing_targets) + 1), testing_targets, width=-0.3, align=\"edge\", color=\"g\")\n",
    "plt.bar(np.arange(1, len(testing_targets) + 1), prediction, width=0.3, align=\"edge\", color=\"y\")\n",
    "plt.legend([\"Target admissions\", \"Predicted admissions\"])\n",
    "plt.show()"
   ]
  },
  {
   "cell_type": "markdown",
   "metadata": {},
   "source": [
    "### Question 3. Iterative Hard and Soft Thresholding (10pts)\n",
    "\n",
    "\n",
    "An alternative to the simple OLS criterion or to the Ridge regression model, LASSO regression minimizes a combination of a data fidelity term and a penalty on the sum of the absolute values of the regression coefficients, i.e.\n",
    "\n",
    "\\begin{align}\n",
    "\\ell(\\boldsymbol \\beta ) = \\frac{1}{N}\\sum_{i=1}^N (t^{(i)} - (\\boldsymbol{\\beta}^T \\boldsymbol x^{(i)}))^2 + \\lambda \\sum_{j=0}^D |\\beta_j|, \\quad (\\text{LASSO})\n",
    "\\end{align}\n",
    "\n",
    "One of the main difficulty with the LASSO lies in the non differentiability of the absolute value which appears in the regularization term. Because of the use of the absolute value, the gradient cannot be computed at 0. Instead of relying on gradient updates, we can instead turn to the constrained formulation\n",
    "\n",
    "\n",
    "\\begin{align}\n",
    "\\min & \\quad \\ell(\\boldsymbol \\beta ) = \\frac{1}{N}\\sum_{i=1}^N (t^{(i)} - (\\boldsymbol{\\beta}^T \\boldsymbol x^{(i)}))^2\\\\\n",
    "\\text{subject to}& \\quad \\sum_{j=0}^D |\\beta_j|\\leq t\n",
    "\\end{align}\n",
    "\n",
    "The drawback with such a formulation is that we now have to solve a constrained problem. A common approach relies on the use of thresholding algorithms and in particular to the class of so-called _iterative shrinkage-thresholding algorithms (ISTA)_. If we write the OLS objective in matrix form as $\\ell(\\boldsymbol \\beta) = \\frac{1}{2N}\\|\\tilde{\\mathbf{X}}\\mathbf{\\beta} - \\mathbf{t}\\|_2^2$, Iterative shrinkage-thresholding algorithms are based on the following update :\n",
    "\n",
    "\n",
    "\\begin{align}\n",
    "\\mathbf{\\beta} \\leftarrow \\mathcal{T}_{\\lambda \\eta}\\left\\{\\mathbf{\\beta} - 2\\eta \\tilde{\\mathbf{X}}^T\\left(\\tilde{\\mathbf{X}}\\mathbf{\\beta} - \\mathbf{t}\\right) \\right\\}\n",
    "\\end{align}\n",
    "\n",
    "where $\\mathcal{T}$ is the thresholding operator \n",
    "\\begin{align}\n",
    "\\mathcal{T}_{\\alpha}(\\mathbf{\\beta})_i = \\left(|\\beta_i| - \\alpha\\right)_+\\text{sign}(\\beta_i)\n",
    "\\end{align}\n",
    "\n",
    "Here $\\left(|\\beta_i| - \\alpha\\right)_+ = \\max\\left\\{|\\beta_i| - \\alpha, 0\\right\\}$ and $\\text{sign}(\\beta_i)$ denotes the sign of the coefficient $\\beta_i$. From the definition above, you can also see that $\\lambda \\eta$ acts as a threshold on the $\\beta_i$. The larger $\\lambda$, the more $\\beta_i$ will be set to $0$. \n",
    "\n",
    "\n",
    "#### Question 3.1 (6pts) Complete the function ISTA below which should return a vector of weights $\\mathbf{\\beta}$, starting from some initial guess $\\beta_{\\text{init}}$ and for a training set stored in the matrix $X$ and vector of targets $t$."
   ]
  },
  {
   "cell_type": "code",
   "execution_count": 3,
   "metadata": {},
   "outputs": [],
   "source": [
    "import numpy as np\n",
    "from sklearn.linear_model import LinearRegression\n",
    "from numpy.linalg import norm\n",
    "\n",
    "\n",
    "def ISTA(beta_init, lamb, eta, X, t):\n",
    "    # function should apply the Iterative Shrinkage \n",
    "    # Thresholding updates, starting from Beta_init and \n",
    "    # for a set of feature vectors stored in matrix X \n",
    "    # with associated targets stored in t.\n",
    "    maxIter = 100\n",
    "    \n",
    "    \n",
    "    beta_ISTA = beta_init\n",
    "    for i in range(maxIter):\n",
    "        # gradient descent\n",
    "        diff = np.matmul(X, beta_ISTA) - t\n",
    "        beta_ISTA =  beta_ISTA - 2 * np.true_divide(1, X.shape[0]) * eta * np.matmul(X.T, diff)\n",
    "        \n",
    "        # reduce\n",
    "        for j in range(len(beta_ISTA)):\n",
    "            b = beta_ISTA[j]\n",
    "            b_new = max(abs(b) - eta * lamb, 0)\n",
    "            if(b < 0):\n",
    "                b_new *= -1\n",
    "            beta_ISTA[j] = b_new\n",
    "            \n",
    "    return beta_ISTA \n",
    "    \n"
   ]
  },
  {
   "cell_type": "markdown",
   "metadata": {},
   "source": [
    "#### Question 3.2 (4pts) Test your algorithm on the dataset provided by the two files 'Assignment2_Ex32_Xi.npy' and 'Assignment2_Ex32_ti.npy' below. as above, two of the weights are irrelevant. Try to tune the parameters $\\eta$ and $\\lambda$ and study when you can recover those. "
   ]
  },
  {
   "cell_type": "code",
   "execution_count": 4,
   "metadata": {},
   "outputs": [
    {
     "name": "stdout",
     "output_type": "stream",
     "text": [
      "BETA init:  [0.00000000e+00 1.80403059e+00 6.84747575e-01 1.00000000e-04\n",
      " 5.06131250e-01 3.00000000e-05]\n",
      "\n",
      "ISTA BETA: [0.         1.79915018 0.67903635 0.         0.50085149 0.        ]\n"
     ]
    }
   ],
   "source": [
    "X = np.load('Assignment2_Ex32_Xi.npy')\n",
    "t = np.load('Assignment2_Ex32_ti.npy')\n",
    "\n",
    "# put your code here \n",
    "x_tilde = np.hstack((np.ones((len(X), 1)), X))\n",
    "\n",
    "model = LinearRegression()\n",
    "model.fit(x_tilde, t)\n",
    "\n",
    "print(\"BETA init: \", model.coef_)\n",
    "print()\n",
    "print(\"ISTA BETA:\", ISTA(model.coef_, 0.01, np.true_divide(1, sum(model.coef_)), x_tilde, t)) "
   ]
  },
  {
   "cell_type": "markdown",
   "metadata": {},
   "source": [
    "### Question 4 (5pts). From regression to binary classification: Predicting deaths on the Titanic\n",
    "\n",
    "We have seen how the OLS objective can be used to learn a regression model. This objective remains in fact absolutely valid in the classification framework. In binary classification, the targets associated to the feature vectors take one of two values (let us say $1$ and $0$ or $+1$ and $-1$). If we want to learn a model that classifies some feature vectors $\\mathbf{x}^{(i)}$ as belonging to class $\\mathcal{C}_0$ vs $\\mathcal{C}_1$ and we are given a training set $C_{0, \\text{tr}} = \\left\\{\\mathbf{x}^{(i)}\\right\\}_{i=1}^{N_0}$ and $C_{1, \\text{tr}} = \\left\\{\\mathbf{x}^{(j)}\\right\\}_{j=1}^{N_1}$, we can try to learn a separating plane $\\beta_0 +\\beta_1 x_1 + \\ldots \\beta_D x_D$ such that $\\beta_0 +\\beta_1 x^{(i)}_1 + \\ldots \\beta_D x^{(i)}_D =+1 $ for all $x^{(i)}\\in C_0$ and $\\beta_0 +\\beta_1 x^{(j)}_1 + \\ldots \\beta_D x^{(j)}_D =-1$ for all $x^{(j)}$ in $\\mathcal{C}_1$. \n",
    "\n",
    "For any new point $\\mathbf{x}$ of unknown class, we can then compute $\\beta_0 +\\beta_1x_1 + \\ldots +\\beta_D x_D$ and classify our point as belonging to $C_0$ if $\\beta_0 +\\beta_1x_1 + \\ldots +\\beta_D x_D>0$.\n",
    "\n",
    "Combine this idea with the linear regression model from scikit learn to learn a linear binary classifier for the ['Titanic'](https://www.kaggle.com/c/titanic/data?select=test.csv) dataset from Kaggle. Start by loading the training and test data from this dataset and then complete the cell below.\n"
   ]
  },
  {
   "cell_type": "code",
   "execution_count": 5,
   "metadata": {},
   "outputs": [
    {
     "name": "stdout",
     "output_type": "stream",
     "text": [
      "Accuracy: 0.7978142076502732\n"
     ]
    }
   ],
   "source": [
    "import pandas as pd\n",
    "import numpy as np\n",
    "from sklearn.model_selection import train_test_split\n",
    "from sklearn.linear_model import LinearRegression\n",
    "from sklearn.metrics import accuracy_score\n",
    "\n",
    "training_data = pd.read_csv('train.csv')\n",
    "\n",
    "def feature_target_split(data):\n",
    "    ti = np.array(training_data.Survived).reshape(-1, 1)\n",
    "    xi = np.array(training_data[[\"Pclass\", \"Sex\", \"Age\", \"SibSp\", \"Parch\", \"Fare\", \"Cabin\", \"Embarked\"]])\n",
    "    xi = np.hstack((np.ones((len(xi), 1)), xi))\n",
    "    \n",
    "    return xi, ti\n",
    "\n",
    "\n",
    "# Step 1. \n",
    "# =========================================================================\n",
    "# Use the linearRegression model from scikit learn with binary \n",
    "# targets to predict the passengers that will survive and di in the \n",
    "# case of the sinking of a ship. Start by turning the class targets to \n",
    "# binary or +1/-1 values. Then turn possible non numeric features to numbers. Finally \n",
    "# learn the separating plane.\n",
    "\n",
    "# clean data\n",
    "for i in range(len(training_data)):\n",
    "    if (type(training_data[\"Cabin\"][i]) != type(3.4)):\n",
    "        val = training_data[\"Cabin\"][i][0]\n",
    "        training_data.loc[i, \"Cabin\"] = val\n",
    "\n",
    "training_data.dropna(inplace=True)\n",
    "training_data.Sex.replace([\"female\", \"male\"], [-1, 1], inplace=True)\n",
    "training_data.Embarked.replace([\"C\", \"Q\", \"S\"], [1, 2, 3], inplace=True)\n",
    "training_data.Cabin.replace([\"A\", \"B\", \"C\", \"D\", \"E\", \"F\", \"G\", \"T\"], [1, 2, 3, 4, 5, 6, 7, 8], inplace=True)\n",
    "training_data.Survived.replace(0, -1, inplace=True)\n",
    "\n",
    "# training vs testing\n",
    "training, testing = train_test_split(training_data, test_size=0.1, train_size=0.9)\n",
    "\n",
    "# get features and targets\n",
    "training_features, training_targets = feature_target_split(training)\n",
    "testing_features, testing_targets = feature_target_split(training)\n",
    "\n",
    "model = LinearRegression()\n",
    "model.fit(training_features, training_targets)\n",
    "\n",
    "# Step 2. \n",
    "# =========================================================================\n",
    "# Validate your model on the test set and compute the fraction of correctly \n",
    "# classified samples using the function accuracy_score from the sklearn.metrics module\n",
    "\n",
    "from sklearn.metrics import accuracy_score\n",
    "\n",
    "prediction = model.predict(testing_features)\n",
    "\n",
    "# transform prediction\n",
    "for i in range(len(prediction)):\n",
    "    prediction[i] = 0 if prediction[i] < 0 else 1\n",
    "    testing_targets[i] = 0 if testing_targets[i] < 0 else 1\n",
    "score = accuracy_score(testing_targets, prediction)\n",
    "print(\"Accuracy:\", score)"
   ]
  }
 ],
 "metadata": {
  "kernelspec": {
   "display_name": "Python 3",
   "language": "python",
   "name": "python3"
  },
  "language_info": {
   "codemirror_mode": {
    "name": "ipython",
    "version": 3
   },
   "file_extension": ".py",
   "mimetype": "text/x-python",
   "name": "python",
   "nbconvert_exporter": "python",
   "pygments_lexer": "ipython3",
   "version": "3.8.5"
  }
 },
 "nbformat": 4,
 "nbformat_minor": 4
}
