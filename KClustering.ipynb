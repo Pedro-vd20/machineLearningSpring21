{
 "cells": [
  {
   "cell_type": "code",
   "execution_count": 16,
   "id": "2eb89c08",
   "metadata": {},
   "outputs": [
    {
     "data": {
      "image/png": "[encoded data removed]",
      "text/plain": [
       "<Figure size 432x288 with 1 Axes>"
      ]
     },
     "metadata": {
      "needs_background": "light"
     },
     "output_type": "display_data"
    }
   ],
   "source": [
    "# import necessary packages\n",
    "import numpy as np\n",
    "import matplotlib.pyplot as plt\n",
    "from sklearn.datasets import make_blobs\n",
    "\n",
    "# generate 3 blobs and store them in X\n",
    "X, _ = make_blobs(n_samples=70, centers=3, n_features=2, random_state=0, cluster_std=0.4)\n",
    "\n",
    "# graph the blobs\n",
    "plt.scatter(X[:, 0], X[:, 1])\n",
    "plt.show()"
   ]
  },
  {
   "cell_type": "code",
   "execution_count": 17,
   "id": "f8ad737e",
   "metadata": {
    "scrolled": true
   },
   "outputs": [
    {
     "data": {
      "image/png": "[encoded data removed]",
      "text/plain": [
       "<Figure size 432x288 with 1 Axes>"
      ]
     },
     "metadata": {
      "needs_background": "light"
     },
     "output_type": "display_data"
    }
   ],
   "source": [
    "# generate random centers\n",
    "x1min = np.min(X[:, 0])\n",
    "x1max = np.max(X[:, 0])\n",
    "x2min = np.min(X[:, 1])\n",
    "x2max = np.max(X[:, 1])\n",
    "\n",
    "tmp_x1 = np.linspace(x1min, x1max, 100)\n",
    "tmp_x2 = np.linspace(x2min, x2max, 100)\n",
    "\n",
    "centers_x1 = np.random.choice(tmp_x1, 3)\n",
    "centers_x2 = np.random.choice(tmp_x2, 3)\n",
    "\n",
    "centers = np.vstack((centers_x1, centers_x2)).T\n",
    "centers_old = centers + 10\n",
    "\n",
    "# calculate the difference between the new centers and old (originially dummy value to get into while loop)\n",
    "center_shift = np.sum((centers - centers_old)**2)\n",
    "\n",
    "# graph starting centers\n",
    "plt.scatter(centers[:, 0], centers[:, 1], marker=\"x\", color=\"r\")\n",
    "plt.show()\n",
    "\n",
    "# store initial centers to use later\n",
    "centers_init = np.copy(centers)"
   ]
  },
  {
   "cell_type": "code",
   "execution_count": 18,
   "id": "778ea989",
   "metadata": {},
   "outputs": [],
   "source": [
    "# set threshold to stop iterating\n",
    "epsilon = 0.1\n",
    "\n",
    "# get number of points and clusters\n",
    "numPoints = np.shape(X)[0]\n",
    "num_clusters = 3\n",
    "\n",
    "# vector to store class of each point\n",
    "assignments = np.zeros((numPoints, 1))\n",
    "\n",
    "\n",
    "while (center_shift > epsilon):\n",
    "    # update old centers\n",
    "    centers_old = centers\n",
    "    # for each point calculate its cluster\n",
    "    for i in range(numPoints):\n",
    "        point = X[i, :]\n",
    "        distances = np.zeros((num_clusters, 1))\n",
    "    \n",
    "        # calculate distance to each of the centers of mass\n",
    "        for c in range(num_clusters):\n",
    "            distances[c] = np.sum((point - centers[c, :])**2)\n",
    "        # assign point i to the nearest cluster\n",
    "        assignments[i] = np.argmin(distances)\n",
    "\n",
    "        # update centers of mass\n",
    "        for c in range(num_clusters):\n",
    "            # grab all indeces of points that fit class c\n",
    "            indeces_c = np.where(assignments == c)[0]\n",
    "            try:    \n",
    "                # compute the new center of mass\n",
    "                centers[c, :] = np.mean(X[indeces_c, :], axis=0)\n",
    "            except:\n",
    "                # in case the class is empty, just do nothing with it\n",
    "                # bad practice should improve it\n",
    "                0\n",
    "    # recompute the shift from old centers to new ones\n",
    "    center_shift = np.sum((centers - centers_old)**2)"
   ]
  },
  {
   "cell_type": "code",
   "execution_count": 19,
   "id": "dcb7f52b",
   "metadata": {},
   "outputs": [],
   "source": [
    "# to prevent off-by-one errors, compute the classes of each point one last time\n",
    "for i in range(numPoints):\n",
    "    point = X[i, :]\n",
    "    distances = np.zeros((num_clusters, 1))\n",
    "\n",
    "    for c in range(num_clusters):\n",
    "        distances[c] = np.sum((point - centers[c, :])**2)\n",
    "    assignments[i] = np.argmin(distances)"
   ]
  },
  {
   "cell_type": "code",
   "execution_count": 20,
   "id": "22772765",
   "metadata": {},
   "outputs": [
    {
     "data": {
      "image/png": "[encoded data removed]",
      "text/plain": [
       "<Figure size 432x288 with 1 Axes>"
      ]
     },
     "metadata": {
      "needs_background": "light"
     },
     "output_type": "display_data"
    }
   ],
   "source": [
    "# plot initial centers, new ones, and all the blobs with their own color\n",
    "plt.scatter(centers[:, 0], centers[:, 1], marker=\"x\", color=\"r\")\n",
    "plt.scatter(centers_init[:, 0], centers_init[:, 1], marker=\"+\", color=\"b\")\n",
    "plt.scatter(X[:, 0], X[:, 1], c=assignments)\n",
    "plt.show()"
   ]
  },
  {
   "cell_type": "code",
   "execution_count": null,
   "id": "18166b64",
   "metadata": {},
   "outputs": [],
   "source": []
  }
 ],
 "metadata": {
  "kernelspec": {
   "display_name": "Python 3",
   "language": "python",
   "name": "python3"
  },
  "language_info": {
   "codemirror_mode": {
    "name": "ipython",
    "version": 3
   },
   "file_extension": ".py",
   "mimetype": "text/x-python",
   "name": "python",
   "nbconvert_exporter": "python",
   "pygments_lexer": "ipython3",
   "version": "3.8.5"
  }
 },
 "nbformat": 4,
 "nbformat_minor": 5
}
